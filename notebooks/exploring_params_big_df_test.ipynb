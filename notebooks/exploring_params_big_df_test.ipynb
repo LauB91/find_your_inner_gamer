{
 "cells": [
  {
   "cell_type": "code",
   "execution_count": 1,
   "metadata": {},
   "outputs": [],
   "source": [
    "import pandas as pd"
   ]
  },
  {
   "cell_type": "code",
   "execution_count": 15,
   "metadata": {},
   "outputs": [
    {
     "data": {
      "text/html": [
       "<div>\n",
       "<style scoped>\n",
       "    .dataframe tbody tr th:only-of-type {\n",
       "        vertical-align: middle;\n",
       "    }\n",
       "\n",
       "    .dataframe tbody tr th {\n",
       "        vertical-align: top;\n",
       "    }\n",
       "\n",
       "    .dataframe thead th {\n",
       "        text-align: right;\n",
       "    }\n",
       "</style>\n",
       "<table border=\"1\" class=\"dataframe\">\n",
       "  <thead>\n",
       "    <tr style=\"text-align: right;\">\n",
       "      <th></th>\n",
       "      <th>Unnamed: 0</th>\n",
       "      <th>most_fav_game</th>\n",
       "      <th>sec_fav_game</th>\n",
       "      <th>distance</th>\n",
       "      <th>(0.03, 1, 10, 0.05)</th>\n",
       "      <th>index(0.03, 1, 10, 0.05)</th>\n",
       "      <th>(0.03, 1, 10, 0.07)</th>\n",
       "      <th>index(0.03, 1, 10, 0.07)</th>\n",
       "      <th>(0.03, 1, 10, 0.1)</th>\n",
       "      <th>index(0.03, 1, 10, 0.1)</th>\n",
       "      <th>...</th>\n",
       "      <th>(0.03, 10, 10, 0.1)</th>\n",
       "      <th>index(0.03, 10, 10, 0.1)</th>\n",
       "      <th>(0.03, 10, 50, 0.05)</th>\n",
       "      <th>index(0.03, 10, 50, 0.05)</th>\n",
       "      <th>(0.03, 10, 50, 0.07)</th>\n",
       "      <th>index(0.03, 10, 50, 0.07)</th>\n",
       "      <th>(0.03, 10, 50, 0.1)</th>\n",
       "      <th>index(0.03, 10, 50, 0.1)</th>\n",
       "      <th>(0.03, 10, 70, 0.05)</th>\n",
       "      <th>index(0.03, 10, 70, 0.05)</th>\n",
       "    </tr>\n",
       "  </thead>\n",
       "  <tbody>\n",
       "    <tr>\n",
       "      <th>0</th>\n",
       "      <td>5250</td>\n",
       "      <td>Portal 2</td>\n",
       "      <td>Alien Swarm</td>\n",
       "      <td>4.056586</td>\n",
       "      <td>0.788485</td>\n",
       "      <td>3078.0</td>\n",
       "      <td>0.896188</td>\n",
       "      <td>3150.0</td>\n",
       "      <td>0.262728</td>\n",
       "      <td>688.0</td>\n",
       "      <td>...</td>\n",
       "      <td>0.863384</td>\n",
       "      <td>3223.0</td>\n",
       "      <td>1.023652</td>\n",
       "      <td>3433.0</td>\n",
       "      <td>0.819752</td>\n",
       "      <td>3077.0</td>\n",
       "      <td>0.808542</td>\n",
       "      <td>2932.0</td>\n",
       "      <td>0.810879</td>\n",
       "      <td>3071.0</td>\n",
       "    </tr>\n",
       "    <tr>\n",
       "      <th>1</th>\n",
       "      <td>76767</td>\n",
       "      <td>Counter-Strike</td>\n",
       "      <td>Banished</td>\n",
       "      <td>3.389840</td>\n",
       "      <td>1.992217</td>\n",
       "      <td>5036.0</td>\n",
       "      <td>1.868724</td>\n",
       "      <td>4319.0</td>\n",
       "      <td>2.000231</td>\n",
       "      <td>4957.0</td>\n",
       "      <td>...</td>\n",
       "      <td>1.704289</td>\n",
       "      <td>3658.0</td>\n",
       "      <td>2.065029</td>\n",
       "      <td>5113.0</td>\n",
       "      <td>1.728973</td>\n",
       "      <td>4041.0</td>\n",
       "      <td>1.842237</td>\n",
       "      <td>4182.0</td>\n",
       "      <td>1.777120</td>\n",
       "      <td>4205.0</td>\n",
       "    </tr>\n",
       "    <tr>\n",
       "      <th>2</th>\n",
       "      <td>86540</td>\n",
       "      <td>Far Cry 3</td>\n",
       "      <td>Left 4 Dead 2</td>\n",
       "      <td>3.878262</td>\n",
       "      <td>0.412753</td>\n",
       "      <td>596.0</td>\n",
       "      <td>0.325681</td>\n",
       "      <td>453.0</td>\n",
       "      <td>0.253632</td>\n",
       "      <td>394.0</td>\n",
       "      <td>...</td>\n",
       "      <td>0.371482</td>\n",
       "      <td>531.0</td>\n",
       "      <td>0.563730</td>\n",
       "      <td>732.0</td>\n",
       "      <td>0.419844</td>\n",
       "      <td>614.0</td>\n",
       "      <td>0.388969</td>\n",
       "      <td>588.0</td>\n",
       "      <td>0.330324</td>\n",
       "      <td>506.0</td>\n",
       "    </tr>\n",
       "    <tr>\n",
       "      <th>3</th>\n",
       "      <td>229911</td>\n",
       "      <td>Counter-Strike</td>\n",
       "      <td>Worms Reloaded</td>\n",
       "      <td>5.205658</td>\n",
       "      <td>0.253276</td>\n",
       "      <td>494.0</td>\n",
       "      <td>0.192166</td>\n",
       "      <td>350.0</td>\n",
       "      <td>0.116178</td>\n",
       "      <td>213.0</td>\n",
       "      <td>...</td>\n",
       "      <td>0.269743</td>\n",
       "      <td>499.0</td>\n",
       "      <td>0.328818</td>\n",
       "      <td>590.0</td>\n",
       "      <td>0.247489</td>\n",
       "      <td>476.0</td>\n",
       "      <td>0.319972</td>\n",
       "      <td>567.0</td>\n",
       "      <td>0.195771</td>\n",
       "      <td>352.0</td>\n",
       "    </tr>\n",
       "    <tr>\n",
       "      <th>4</th>\n",
       "      <td>298950</td>\n",
       "      <td>Team Fortress 2</td>\n",
       "      <td>Far Cry 3</td>\n",
       "      <td>2.889029</td>\n",
       "      <td>1.310521</td>\n",
       "      <td>6148.0</td>\n",
       "      <td>1.339675</td>\n",
       "      <td>6461.0</td>\n",
       "      <td>1.263267</td>\n",
       "      <td>5534.0</td>\n",
       "      <td>...</td>\n",
       "      <td>1.318032</td>\n",
       "      <td>6360.0</td>\n",
       "      <td>1.370766</td>\n",
       "      <td>6092.0</td>\n",
       "      <td>1.428591</td>\n",
       "      <td>7889.0</td>\n",
       "      <td>1.265117</td>\n",
       "      <td>5817.0</td>\n",
       "      <td>1.283623</td>\n",
       "      <td>6023.0</td>\n",
       "    </tr>\n",
       "  </tbody>\n",
       "</table>\n",
       "<p>5 rows × 54 columns</p>\n",
       "</div>"
      ],
      "text/plain": [
       "   Unnamed: 0    most_fav_game    sec_fav_game  distance  (0.03, 1, 10, 0.05)  \\\n",
       "0        5250         Portal 2     Alien Swarm  4.056586             0.788485   \n",
       "1       76767   Counter-Strike        Banished  3.389840             1.992217   \n",
       "2       86540        Far Cry 3   Left 4 Dead 2  3.878262             0.412753   \n",
       "3      229911   Counter-Strike  Worms Reloaded  5.205658             0.253276   \n",
       "4      298950  Team Fortress 2       Far Cry 3  2.889029             1.310521   \n",
       "\n",
       "   index(0.03, 1, 10, 0.05)  (0.03, 1, 10, 0.07)  index(0.03, 1, 10, 0.07)  \\\n",
       "0                    3078.0             0.896188                    3150.0   \n",
       "1                    5036.0             1.868724                    4319.0   \n",
       "2                     596.0             0.325681                     453.0   \n",
       "3                     494.0             0.192166                     350.0   \n",
       "4                    6148.0             1.339675                    6461.0   \n",
       "\n",
       "   (0.03, 1, 10, 0.1)  index(0.03, 1, 10, 0.1)  ...  (0.03, 10, 10, 0.1)  \\\n",
       "0            0.262728                    688.0  ...             0.863384   \n",
       "1            2.000231                   4957.0  ...             1.704289   \n",
       "2            0.253632                    394.0  ...             0.371482   \n",
       "3            0.116178                    213.0  ...             0.269743   \n",
       "4            1.263267                   5534.0  ...             1.318032   \n",
       "\n",
       "   index(0.03, 10, 10, 0.1)  (0.03, 10, 50, 0.05)  index(0.03, 10, 50, 0.05)  \\\n",
       "0                    3223.0              1.023652                     3433.0   \n",
       "1                    3658.0              2.065029                     5113.0   \n",
       "2                     531.0              0.563730                      732.0   \n",
       "3                     499.0              0.328818                      590.0   \n",
       "4                    6360.0              1.370766                     6092.0   \n",
       "\n",
       "   (0.03, 10, 50, 0.07)  index(0.03, 10, 50, 0.07)  (0.03, 10, 50, 0.1)  \\\n",
       "0              0.819752                     3077.0             0.808542   \n",
       "1              1.728973                     4041.0             1.842237   \n",
       "2              0.419844                      614.0             0.388969   \n",
       "3              0.247489                      476.0             0.319972   \n",
       "4              1.428591                     7889.0             1.265117   \n",
       "\n",
       "   index(0.03, 10, 50, 0.1)  (0.03, 10, 70, 0.05)  index(0.03, 10, 70, 0.05)  \n",
       "0                    2932.0              0.810879                     3071.0  \n",
       "1                    4182.0              1.777120                     4205.0  \n",
       "2                     588.0              0.330324                      506.0  \n",
       "3                     567.0              0.195771                      352.0  \n",
       "4                    5817.0              1.283623                     6023.0  \n",
       "\n",
       "[5 rows x 54 columns]"
      ]
     },
     "execution_count": 15,
     "metadata": {},
     "output_type": "execute_result"
    }
   ],
   "source": [
    "test_01_df=pd.read_csv(\"../raw_data/big_df_test_params_0_24.csv\")\n",
    "test_01_df.head()"
   ]
  },
  {
   "cell_type": "code",
   "execution_count": 9,
   "metadata": {},
   "outputs": [
    {
     "data": {
      "text/plain": [
       "Unnamed: 0                                                       431045642164\n",
       "most_fav_game               Portal 2Counter-StrikeFar Cry 3Counter-StrikeT...\n",
       "sec_fav_game                Alien SwarmBanishedLeft 4 Dead 2Worms Reloaded...\n",
       "distance                                                         12340.456948\n",
       "(0.03, 1, 10, 0.05)                                               2813.668859\n",
       "index(0.03, 1, 10, 0.05)                                           12326569.0\n",
       "(0.03, 1, 10, 0.07)                                               2931.059483\n",
       "index(0.03, 1, 10, 0.07)                                           13076091.0\n",
       "(0.03, 1, 10, 0.1)                                                2978.195422\n",
       "index(0.03, 1, 10, 0.1)                                            12836856.0\n",
       "(0.03, 1, 50, 0.05)                                               2888.195588\n",
       "index(0.03, 1, 50, 0.05)                                           12661087.0\n",
       "(0.03, 1, 50, 0.07)                                               2859.111275\n",
       "index(0.03, 1, 50, 0.07)                                           12513188.0\n",
       "(0.03, 1, 50, 0.1)                                                2727.498208\n",
       "dtype: object"
      ]
     },
     "execution_count": 9,
     "metadata": {},
     "output_type": "execute_result"
    }
   ],
   "source": [
    "test_01_df.iloc[:,0:15].sum()"
   ]
  },
  {
   "cell_type": "code",
   "execution_count": 10,
   "metadata": {},
   "outputs": [
    {
     "data": {
      "text/plain": [
       "index(0.03, 1, 50, 0.1)     1.185392e+07\n",
       "(0.03, 1, 70, 0.05)         2.955397e+03\n",
       "index(0.03, 1, 70, 0.05)    1.301131e+07\n",
       "(0.03, 1, 70, 0.07)         2.968617e+03\n",
       "index(0.03, 1, 70, 0.07)    1.316040e+07\n",
       "(0.03, 1, 70, 0.1)          3.000909e+03\n",
       "index(0.03, 1, 70, 0.1)     1.382264e+07\n",
       "(0.03, 5, 10, 0.05)         2.965229e+03\n",
       "index(0.03, 5, 10, 0.05)    1.297415e+07\n",
       "(0.03, 5, 10, 0.07)         2.800077e+03\n",
       "dtype: float64"
      ]
     },
     "execution_count": 10,
     "metadata": {},
     "output_type": "execute_result"
    }
   ],
   "source": [
    "test_01_df.iloc[:,15:25].sum()"
   ]
  },
  {
   "cell_type": "code",
   "execution_count": 12,
   "metadata": {},
   "outputs": [
    {
     "data": {
      "text/plain": [
       "index(0.03, 5, 10, 0.07)    1.228030e+07\n",
       "(0.03, 5, 10, 0.1)          2.909589e+03\n",
       "index(0.03, 5, 10, 0.1)     1.288419e+07\n",
       "(0.03, 5, 50, 0.05)         2.994616e+03\n",
       "index(0.03, 5, 50, 0.05)    1.370647e+07\n",
       "(0.03, 5, 50, 0.07)         2.909421e+03\n",
       "index(0.03, 5, 50, 0.07)    1.279767e+07\n",
       "(0.03, 5, 50, 0.1)          2.949740e+03\n",
       "index(0.03, 5, 50, 0.1)     1.268653e+07\n",
       "(0.03, 5, 70, 0.05)         2.885309e+03\n",
       "dtype: float64"
      ]
     },
     "execution_count": 12,
     "metadata": {},
     "output_type": "execute_result"
    }
   ],
   "source": [
    "test_01_df.iloc[:,25:35].sum()"
   ]
  },
  {
   "cell_type": "code",
   "execution_count": 13,
   "metadata": {},
   "outputs": [
    {
     "data": {
      "text/plain": [
       "index(0.03, 5, 70, 0.05)     1.251415e+07\n",
       "(0.03, 5, 70, 0.07)          2.947411e+03\n",
       "index(0.03, 5, 70, 0.07)     1.319972e+07\n",
       "(0.03, 5, 70, 0.1)           2.858050e+03\n",
       "index(0.03, 5, 70, 0.1)      1.243021e+07\n",
       "(0.03, 10, 10, 0.05)         2.836006e+03\n",
       "index(0.03, 10, 10, 0.05)    1.224017e+07\n",
       "(0.03, 10, 10, 0.07)         2.885665e+03\n",
       "index(0.03, 10, 10, 0.07)    1.276278e+07\n",
       "(0.03, 10, 10, 0.1)          2.890956e+03\n",
       "dtype: float64"
      ]
     },
     "execution_count": 13,
     "metadata": {},
     "output_type": "execute_result"
    }
   ],
   "source": [
    "test_01_df.iloc[:,35:45].sum()"
   ]
  },
  {
   "cell_type": "code",
   "execution_count": 14,
   "metadata": {},
   "outputs": [
    {
     "data": {
      "text/plain": [
       "index(0.03, 10, 10, 0.1)     1.265494e+07\n",
       "(0.03, 10, 50, 0.05)         2.899343e+03\n",
       "index(0.03, 10, 50, 0.05)    1.265439e+07\n",
       "(0.03, 10, 50, 0.07)         2.890356e+03\n",
       "index(0.03, 10, 50, 0.07)    1.297208e+07\n",
       "(0.03, 10, 50, 0.1)          2.858807e+03\n",
       "index(0.03, 10, 50, 0.1)     1.256083e+07\n",
       "(0.03, 10, 70, 0.05)         2.847370e+03\n",
       "index(0.03, 10, 70, 0.05)    1.252730e+07\n",
       "dtype: float64"
      ]
     },
     "execution_count": 14,
     "metadata": {},
     "output_type": "execute_result"
    }
   ],
   "source": [
    "test_01_df.iloc[:,45:].sum()"
   ]
  },
  {
   "cell_type": "code",
   "execution_count": 16,
   "metadata": {},
   "outputs": [
    {
     "data": {
      "text/html": [
       "<div>\n",
       "<style scoped>\n",
       "    .dataframe tbody tr th:only-of-type {\n",
       "        vertical-align: middle;\n",
       "    }\n",
       "\n",
       "    .dataframe tbody tr th {\n",
       "        vertical-align: top;\n",
       "    }\n",
       "\n",
       "    .dataframe thead th {\n",
       "        text-align: right;\n",
       "    }\n",
       "</style>\n",
       "<table border=\"1\" class=\"dataframe\">\n",
       "  <thead>\n",
       "    <tr style=\"text-align: right;\">\n",
       "      <th></th>\n",
       "      <th>Unnamed: 0</th>\n",
       "      <th>most_fav_game</th>\n",
       "      <th>sec_fav_game</th>\n",
       "      <th>distance</th>\n",
       "      <th>(0.03, 1, 10, 0.05)</th>\n",
       "      <th>index(0.03, 1, 10, 0.05)</th>\n",
       "      <th>(0.03, 1, 10, 0.07)</th>\n",
       "      <th>index(0.03, 1, 10, 0.07)</th>\n",
       "      <th>(0.03, 1, 10, 0.1)</th>\n",
       "      <th>index(0.03, 1, 10, 0.1)</th>\n",
       "      <th>...</th>\n",
       "      <th>(0.7, 5, 70, 0.07)</th>\n",
       "      <th>index(0.7, 5, 70, 0.07)</th>\n",
       "      <th>(0.7, 5, 70, 0.1)</th>\n",
       "      <th>index(0.7, 5, 70, 0.1)</th>\n",
       "      <th>(0.7, 10, 10, 0.05)</th>\n",
       "      <th>index(0.7, 10, 10, 0.05)</th>\n",
       "      <th>(0.7, 10, 10, 0.07)</th>\n",
       "      <th>index(0.7, 10, 10, 0.07)</th>\n",
       "      <th>(0.7, 10, 10, 0.1)</th>\n",
       "      <th>index(0.7, 10, 10, 0.1)</th>\n",
       "    </tr>\n",
       "  </thead>\n",
       "  <tbody>\n",
       "    <tr>\n",
       "      <th>0</th>\n",
       "      <td>5250</td>\n",
       "      <td>Portal 2</td>\n",
       "      <td>Alien Swarm</td>\n",
       "      <td>4.056586</td>\n",
       "      <td>0.788485</td>\n",
       "      <td>3078.0</td>\n",
       "      <td>0.896188</td>\n",
       "      <td>3150.0</td>\n",
       "      <td>0.262728</td>\n",
       "      <td>688.0</td>\n",
       "      <td>...</td>\n",
       "      <td>0.878301</td>\n",
       "      <td>2999.0</td>\n",
       "      <td>0.909783</td>\n",
       "      <td>2884.0</td>\n",
       "      <td>0.883252</td>\n",
       "      <td>3308.0</td>\n",
       "      <td>1.324544</td>\n",
       "      <td>4252.0</td>\n",
       "      <td>0.060204</td>\n",
       "      <td>177.0</td>\n",
       "    </tr>\n",
       "    <tr>\n",
       "      <th>1</th>\n",
       "      <td>76767</td>\n",
       "      <td>Counter-Strike</td>\n",
       "      <td>Banished</td>\n",
       "      <td>3.389840</td>\n",
       "      <td>1.992217</td>\n",
       "      <td>5036.0</td>\n",
       "      <td>1.868724</td>\n",
       "      <td>4319.0</td>\n",
       "      <td>2.000231</td>\n",
       "      <td>4957.0</td>\n",
       "      <td>...</td>\n",
       "      <td>1.869225</td>\n",
       "      <td>4508.0</td>\n",
       "      <td>1.569589</td>\n",
       "      <td>3476.0</td>\n",
       "      <td>2.092664</td>\n",
       "      <td>5161.0</td>\n",
       "      <td>1.987737</td>\n",
       "      <td>4917.0</td>\n",
       "      <td>1.833462</td>\n",
       "      <td>4174.0</td>\n",
       "    </tr>\n",
       "    <tr>\n",
       "      <th>2</th>\n",
       "      <td>86540</td>\n",
       "      <td>Far Cry 3</td>\n",
       "      <td>Left 4 Dead 2</td>\n",
       "      <td>3.878262</td>\n",
       "      <td>0.412753</td>\n",
       "      <td>596.0</td>\n",
       "      <td>0.325681</td>\n",
       "      <td>453.0</td>\n",
       "      <td>0.253632</td>\n",
       "      <td>394.0</td>\n",
       "      <td>...</td>\n",
       "      <td>0.385426</td>\n",
       "      <td>575.0</td>\n",
       "      <td>0.383184</td>\n",
       "      <td>591.0</td>\n",
       "      <td>0.174640</td>\n",
       "      <td>294.0</td>\n",
       "      <td>0.227958</td>\n",
       "      <td>376.0</td>\n",
       "      <td>0.390688</td>\n",
       "      <td>571.0</td>\n",
       "    </tr>\n",
       "    <tr>\n",
       "      <th>3</th>\n",
       "      <td>229911</td>\n",
       "      <td>Counter-Strike</td>\n",
       "      <td>Worms Reloaded</td>\n",
       "      <td>5.205658</td>\n",
       "      <td>0.253276</td>\n",
       "      <td>494.0</td>\n",
       "      <td>0.192166</td>\n",
       "      <td>350.0</td>\n",
       "      <td>0.116178</td>\n",
       "      <td>213.0</td>\n",
       "      <td>...</td>\n",
       "      <td>0.261681</td>\n",
       "      <td>504.0</td>\n",
       "      <td>0.235099</td>\n",
       "      <td>422.0</td>\n",
       "      <td>0.173020</td>\n",
       "      <td>289.0</td>\n",
       "      <td>0.209431</td>\n",
       "      <td>372.0</td>\n",
       "      <td>0.275884</td>\n",
       "      <td>516.0</td>\n",
       "    </tr>\n",
       "    <tr>\n",
       "      <th>4</th>\n",
       "      <td>298950</td>\n",
       "      <td>Team Fortress 2</td>\n",
       "      <td>Far Cry 3</td>\n",
       "      <td>2.889029</td>\n",
       "      <td>1.310521</td>\n",
       "      <td>6148.0</td>\n",
       "      <td>1.339675</td>\n",
       "      <td>6461.0</td>\n",
       "      <td>1.263267</td>\n",
       "      <td>5534.0</td>\n",
       "      <td>...</td>\n",
       "      <td>1.317080</td>\n",
       "      <td>6531.0</td>\n",
       "      <td>1.240915</td>\n",
       "      <td>5549.0</td>\n",
       "      <td>1.192984</td>\n",
       "      <td>5195.0</td>\n",
       "      <td>1.165325</td>\n",
       "      <td>5121.0</td>\n",
       "      <td>1.326717</td>\n",
       "      <td>6446.0</td>\n",
       "    </tr>\n",
       "  </tbody>\n",
       "</table>\n",
       "<p>5 rows × 102 columns</p>\n",
       "</div>"
      ],
      "text/plain": [
       "   Unnamed: 0    most_fav_game    sec_fav_game  distance  (0.03, 1, 10, 0.05)  \\\n",
       "0        5250         Portal 2     Alien Swarm  4.056586             0.788485   \n",
       "1       76767   Counter-Strike        Banished  3.389840             1.992217   \n",
       "2       86540        Far Cry 3   Left 4 Dead 2  3.878262             0.412753   \n",
       "3      229911   Counter-Strike  Worms Reloaded  5.205658             0.253276   \n",
       "4      298950  Team Fortress 2       Far Cry 3  2.889029             1.310521   \n",
       "\n",
       "   index(0.03, 1, 10, 0.05)  (0.03, 1, 10, 0.07)  index(0.03, 1, 10, 0.07)  \\\n",
       "0                    3078.0             0.896188                    3150.0   \n",
       "1                    5036.0             1.868724                    4319.0   \n",
       "2                     596.0             0.325681                     453.0   \n",
       "3                     494.0             0.192166                     350.0   \n",
       "4                    6148.0             1.339675                    6461.0   \n",
       "\n",
       "   (0.03, 1, 10, 0.1)  index(0.03, 1, 10, 0.1)  ...  (0.7, 5, 70, 0.07)  \\\n",
       "0            0.262728                    688.0  ...            0.878301   \n",
       "1            2.000231                   4957.0  ...            1.869225   \n",
       "2            0.253632                    394.0  ...            0.385426   \n",
       "3            0.116178                    213.0  ...            0.261681   \n",
       "4            1.263267                   5534.0  ...            1.317080   \n",
       "\n",
       "   index(0.7, 5, 70, 0.07)  (0.7, 5, 70, 0.1)  index(0.7, 5, 70, 0.1)  \\\n",
       "0                   2999.0           0.909783                  2884.0   \n",
       "1                   4508.0           1.569589                  3476.0   \n",
       "2                    575.0           0.383184                   591.0   \n",
       "3                    504.0           0.235099                   422.0   \n",
       "4                   6531.0           1.240915                  5549.0   \n",
       "\n",
       "   (0.7, 10, 10, 0.05)  index(0.7, 10, 10, 0.05)  (0.7, 10, 10, 0.07)  \\\n",
       "0             0.883252                    3308.0             1.324544   \n",
       "1             2.092664                    5161.0             1.987737   \n",
       "2             0.174640                     294.0             0.227958   \n",
       "3             0.173020                     289.0             0.209431   \n",
       "4             1.192984                    5195.0             1.165325   \n",
       "\n",
       "   index(0.7, 10, 10, 0.07)  (0.7, 10, 10, 0.1)  index(0.7, 10, 10, 0.1)  \n",
       "0                    4252.0            0.060204                    177.0  \n",
       "1                    4917.0            1.833462                   4174.0  \n",
       "2                     376.0            0.390688                    571.0  \n",
       "3                     372.0            0.275884                    516.0  \n",
       "4                    5121.0            1.326717                   6446.0  \n",
       "\n",
       "[5 rows x 102 columns]"
      ]
     },
     "execution_count": 16,
     "metadata": {},
     "output_type": "execute_result"
    }
   ],
   "source": [
    "#test 3 cause Laura did the 2nd batch\n",
    "test_03_df=pd.read_csv(\"../raw_data/big_df_test_params_0_24_51_74.csv\")\n",
    "test_03_df.head()"
   ]
  },
  {
   "cell_type": "code",
   "execution_count": 19,
   "metadata": {},
   "outputs": [
    {
     "data": {
      "text/plain": [
       "(0.03, 10, 50, 0.1)          2.858807e+03\n",
       "index(0.03, 10, 50, 0.1)     1.256083e+07\n",
       "(0.03, 10, 70, 0.05)         2.847370e+03\n",
       "index(0.03, 10, 70, 0.05)    1.252730e+07\n",
       "(0.05, 10, 70, 0.05)         2.980558e+03\n",
       "index(0.05, 10, 70, 0.05)    1.354299e+07\n",
       "(0.05, 10, 70, 0.07)         2.986192e+03\n",
       "index(0.05, 10, 70, 0.07)    1.340978e+07\n",
       "(0.05, 10, 70, 0.1)          2.965792e+03\n",
       "index(0.05, 10, 70, 0.1)     1.304372e+07\n",
       "dtype: float64"
      ]
     },
     "execution_count": 19,
     "metadata": {},
     "output_type": "execute_result"
    }
   ],
   "source": [
    "test_03_df.iloc[:,50:60].sum()"
   ]
  },
  {
   "cell_type": "code",
   "execution_count": 20,
   "metadata": {},
   "outputs": [
    {
     "data": {
      "text/plain": [
       "(0.7, 1, 10, 0.05)         2.831109e+03\n",
       "index(0.7, 1, 10, 0.05)    1.255095e+07\n",
       "(0.7, 1, 10, 0.07)         2.757912e+03\n",
       "index(0.7, 1, 10, 0.07)    1.227673e+07\n",
       "(0.7, 1, 10, 0.1)          2.794192e+03\n",
       "index(0.7, 1, 10, 0.1)     1.236299e+07\n",
       "(0.7, 1, 50, 0.05)         2.790697e+03\n",
       "index(0.7, 1, 50, 0.05)    1.197124e+07\n",
       "(0.7, 1, 50, 0.07)         2.741417e+03\n",
       "index(0.7, 1, 50, 0.07)    1.210560e+07\n",
       "dtype: float64"
      ]
     },
     "execution_count": 20,
     "metadata": {},
     "output_type": "execute_result"
    }
   ],
   "source": [
    "test_03_df.iloc[:,60:70].sum()"
   ]
  },
  {
   "cell_type": "code",
   "execution_count": 21,
   "metadata": {},
   "outputs": [
    {
     "data": {
      "text/plain": [
       "(0.7, 1, 50, 0.1)          2.943736e+03\n",
       "index(0.7, 1, 50, 0.1)     1.271788e+07\n",
       "(0.7, 1, 70, 0.05)         2.984764e+03\n",
       "index(0.7, 1, 70, 0.05)    1.307293e+07\n",
       "(0.7, 1, 70, 0.07)         2.968432e+03\n",
       "index(0.7, 1, 70, 0.07)    1.321690e+07\n",
       "(0.7, 1, 70, 0.1)          2.937086e+03\n",
       "index(0.7, 1, 70, 0.1)     1.308949e+07\n",
       "(0.7, 5, 10, 0.05)         2.963066e+03\n",
       "index(0.7, 5, 10, 0.05)    1.282412e+07\n",
       "dtype: float64"
      ]
     },
     "execution_count": 21,
     "metadata": {},
     "output_type": "execute_result"
    }
   ],
   "source": [
    "test_03_df.iloc[:,70:80].sum()"
   ]
  },
  {
   "cell_type": "code",
   "execution_count": 22,
   "metadata": {},
   "outputs": [
    {
     "data": {
      "text/plain": [
       "(0.7, 5, 10, 0.07)         2.938179e+03\n",
       "index(0.7, 5, 10, 0.07)    1.288380e+07\n",
       "(0.7, 5, 10, 0.1)          2.948164e+03\n",
       "index(0.7, 5, 10, 0.1)     1.286437e+07\n",
       "(0.7, 5, 50, 0.05)         2.798953e+03\n",
       "index(0.7, 5, 50, 0.05)    1.246661e+07\n",
       "(0.7, 5, 50, 0.07)         2.991838e+03\n",
       "index(0.7, 5, 50, 0.07)    1.316748e+07\n",
       "(0.7, 5, 50, 0.1)          2.942206e+03\n",
       "index(0.7, 5, 50, 0.1)     1.277587e+07\n",
       "dtype: float64"
      ]
     },
     "execution_count": 22,
     "metadata": {},
     "output_type": "execute_result"
    }
   ],
   "source": [
    "test_03_df.iloc[:,80:90].sum()"
   ]
  },
  {
   "cell_type": "code",
   "execution_count": 23,
   "metadata": {},
   "outputs": [
    {
     "data": {
      "text/plain": [
       "(0.7, 5, 70, 0.05)          2.939482e+03\n",
       "index(0.7, 5, 70, 0.05)     1.265559e+07\n",
       "(0.7, 5, 70, 0.07)          2.919456e+03\n",
       "index(0.7, 5, 70, 0.07)     1.294066e+07\n",
       "(0.7, 5, 70, 0.1)           2.842203e+03\n",
       "index(0.7, 5, 70, 0.1)      1.249197e+07\n",
       "(0.7, 10, 10, 0.05)         2.938324e+03\n",
       "index(0.7, 10, 10, 0.05)    1.282214e+07\n",
       "(0.7, 10, 10, 0.07)         2.928667e+03\n",
       "index(0.7, 10, 10, 0.07)    1.302403e+07\n",
       "dtype: float64"
      ]
     },
     "execution_count": 23,
     "metadata": {},
     "output_type": "execute_result"
    }
   ],
   "source": [
    "test_03_df.iloc[:,90:100].sum()"
   ]
  },
  {
   "cell_type": "code",
   "execution_count": 24,
   "metadata": {},
   "outputs": [
    {
     "data": {
      "text/plain": [
       "(0.7, 10, 10, 0.1)         2.869011e+03\n",
       "index(0.7, 10, 10, 0.1)    1.273326e+07\n",
       "dtype: float64"
      ]
     },
     "execution_count": 24,
     "metadata": {},
     "output_type": "execute_result"
    }
   ],
   "source": [
    "test_03_df.iloc[:,100:110].sum()"
   ]
  },
  {
   "cell_type": "markdown",
   "metadata": {},
   "source": [
    "# Checking model with 'developer' feature"
   ]
  },
  {
   "cell_type": "code",
   "execution_count": 2,
   "metadata": {},
   "outputs": [
    {
     "data": {
      "text/html": [
       "<div>\n",
       "<style scoped>\n",
       "    .dataframe tbody tr th:only-of-type {\n",
       "        vertical-align: middle;\n",
       "    }\n",
       "\n",
       "    .dataframe tbody tr th {\n",
       "        vertical-align: top;\n",
       "    }\n",
       "\n",
       "    .dataframe thead th {\n",
       "        text-align: right;\n",
       "    }\n",
       "</style>\n",
       "<table border=\"1\" class=\"dataframe\">\n",
       "  <thead>\n",
       "    <tr style=\"text-align: right;\">\n",
       "      <th></th>\n",
       "      <th>Unnamed: 0</th>\n",
       "      <th>most_fav_game</th>\n",
       "      <th>sec_fav_game</th>\n",
       "      <th>(0.03, 1, 10, 0.05, 0.01)</th>\n",
       "      <th>index(0.03, 1, 10, 0.05, 0.01)</th>\n",
       "      <th>(0.03, 1, 10, 0.05, 0.02)</th>\n",
       "      <th>index(0.03, 1, 10, 0.05, 0.02)</th>\n",
       "      <th>(0.03, 1, 10, 0.05, 0.03)</th>\n",
       "      <th>index(0.03, 1, 10, 0.05, 0.03)</th>\n",
       "      <th>(0.03, 1, 10, 0.05, 0.04)</th>\n",
       "      <th>...</th>\n",
       "      <th>(0.03, 5, 10, 0.05, 0.01)</th>\n",
       "      <th>index(0.03, 5, 10, 0.05, 0.01)</th>\n",
       "      <th>(0.03, 5, 10, 0.05, 0.02)</th>\n",
       "      <th>index(0.03, 5, 10, 0.05, 0.02)</th>\n",
       "      <th>(0.03, 5, 10, 0.05, 0.03)</th>\n",
       "      <th>index(0.03, 5, 10, 0.05, 0.03)</th>\n",
       "      <th>(0.03, 5, 10, 0.05, 0.04)</th>\n",
       "      <th>index(0.03, 5, 10, 0.05, 0.04)</th>\n",
       "      <th>(0.03, 5, 10, 0.05, 0.05)</th>\n",
       "      <th>index(0.03, 5, 10, 0.05, 0.05)</th>\n",
       "    </tr>\n",
       "  </thead>\n",
       "  <tbody>\n",
       "    <tr>\n",
       "      <th>0</th>\n",
       "      <td>5250</td>\n",
       "      <td>Portal 2</td>\n",
       "      <td>Alien Swarm</td>\n",
       "      <td>0.969505</td>\n",
       "      <td>3353.0</td>\n",
       "      <td>1.111510</td>\n",
       "      <td>3633.0</td>\n",
       "      <td>0.986101</td>\n",
       "      <td>3205.0</td>\n",
       "      <td>0.871548</td>\n",
       "      <td>...</td>\n",
       "      <td>0.925156</td>\n",
       "      <td>3373.0</td>\n",
       "      <td>1.179878</td>\n",
       "      <td>3843.0</td>\n",
       "      <td>0.723794</td>\n",
       "      <td>2503.0</td>\n",
       "      <td>0.815872</td>\n",
       "      <td>3078.0</td>\n",
       "      <td>0.928255</td>\n",
       "      <td>3542.0</td>\n",
       "    </tr>\n",
       "    <tr>\n",
       "      <th>1</th>\n",
       "      <td>76767</td>\n",
       "      <td>Counter-Strike</td>\n",
       "      <td>Banished</td>\n",
       "      <td>1.750699</td>\n",
       "      <td>4281.0</td>\n",
       "      <td>1.818271</td>\n",
       "      <td>3870.0</td>\n",
       "      <td>1.874905</td>\n",
       "      <td>4830.0</td>\n",
       "      <td>1.999950</td>\n",
       "      <td>...</td>\n",
       "      <td>2.158750</td>\n",
       "      <td>5551.0</td>\n",
       "      <td>2.069429</td>\n",
       "      <td>5066.0</td>\n",
       "      <td>1.812577</td>\n",
       "      <td>4045.0</td>\n",
       "      <td>1.984643</td>\n",
       "      <td>5087.0</td>\n",
       "      <td>2.153004</td>\n",
       "      <td>5540.0</td>\n",
       "    </tr>\n",
       "    <tr>\n",
       "      <th>2</th>\n",
       "      <td>86540</td>\n",
       "      <td>Far Cry 3</td>\n",
       "      <td>Left 4 Dead 2</td>\n",
       "      <td>0.469393</td>\n",
       "      <td>648.0</td>\n",
       "      <td>0.354454</td>\n",
       "      <td>518.0</td>\n",
       "      <td>0.372189</td>\n",
       "      <td>541.0</td>\n",
       "      <td>0.521413</td>\n",
       "      <td>...</td>\n",
       "      <td>0.405898</td>\n",
       "      <td>571.0</td>\n",
       "      <td>0.360140</td>\n",
       "      <td>548.0</td>\n",
       "      <td>0.238661</td>\n",
       "      <td>356.0</td>\n",
       "      <td>0.279838</td>\n",
       "      <td>427.0</td>\n",
       "      <td>0.388207</td>\n",
       "      <td>567.0</td>\n",
       "    </tr>\n",
       "    <tr>\n",
       "      <th>3</th>\n",
       "      <td>229911</td>\n",
       "      <td>Counter-Strike</td>\n",
       "      <td>Worms Reloaded</td>\n",
       "      <td>0.168705</td>\n",
       "      <td>305.0</td>\n",
       "      <td>0.290426</td>\n",
       "      <td>506.0</td>\n",
       "      <td>0.116456</td>\n",
       "      <td>230.0</td>\n",
       "      <td>0.311929</td>\n",
       "      <td>...</td>\n",
       "      <td>0.247725</td>\n",
       "      <td>461.0</td>\n",
       "      <td>0.360173</td>\n",
       "      <td>651.0</td>\n",
       "      <td>0.102342</td>\n",
       "      <td>195.0</td>\n",
       "      <td>0.148864</td>\n",
       "      <td>262.0</td>\n",
       "      <td>0.285789</td>\n",
       "      <td>540.0</td>\n",
       "    </tr>\n",
       "    <tr>\n",
       "      <th>4</th>\n",
       "      <td>298950</td>\n",
       "      <td>Team Fortress 2</td>\n",
       "      <td>Far Cry 3</td>\n",
       "      <td>1.395766</td>\n",
       "      <td>6876.0</td>\n",
       "      <td>1.257227</td>\n",
       "      <td>5547.0</td>\n",
       "      <td>1.392616</td>\n",
       "      <td>6967.0</td>\n",
       "      <td>1.371591</td>\n",
       "      <td>...</td>\n",
       "      <td>1.413028</td>\n",
       "      <td>7063.0</td>\n",
       "      <td>1.123907</td>\n",
       "      <td>4651.0</td>\n",
       "      <td>1.311407</td>\n",
       "      <td>5934.0</td>\n",
       "      <td>1.275163</td>\n",
       "      <td>6029.0</td>\n",
       "      <td>1.324967</td>\n",
       "      <td>6439.0</td>\n",
       "    </tr>\n",
       "  </tbody>\n",
       "</table>\n",
       "<p>5 rows × 103 columns</p>\n",
       "</div>"
      ],
      "text/plain": [
       "   Unnamed: 0    most_fav_game    sec_fav_game  (0.03, 1, 10, 0.05, 0.01)  \\\n",
       "0        5250         Portal 2     Alien Swarm                   0.969505   \n",
       "1       76767   Counter-Strike        Banished                   1.750699   \n",
       "2       86540        Far Cry 3   Left 4 Dead 2                   0.469393   \n",
       "3      229911   Counter-Strike  Worms Reloaded                   0.168705   \n",
       "4      298950  Team Fortress 2       Far Cry 3                   1.395766   \n",
       "\n",
       "   index(0.03, 1, 10, 0.05, 0.01)  (0.03, 1, 10, 0.05, 0.02)  \\\n",
       "0                          3353.0                   1.111510   \n",
       "1                          4281.0                   1.818271   \n",
       "2                           648.0                   0.354454   \n",
       "3                           305.0                   0.290426   \n",
       "4                          6876.0                   1.257227   \n",
       "\n",
       "   index(0.03, 1, 10, 0.05, 0.02)  (0.03, 1, 10, 0.05, 0.03)  \\\n",
       "0                          3633.0                   0.986101   \n",
       "1                          3870.0                   1.874905   \n",
       "2                           518.0                   0.372189   \n",
       "3                           506.0                   0.116456   \n",
       "4                          5547.0                   1.392616   \n",
       "\n",
       "   index(0.03, 1, 10, 0.05, 0.03)  (0.03, 1, 10, 0.05, 0.04)  ...  \\\n",
       "0                          3205.0                   0.871548  ...   \n",
       "1                          4830.0                   1.999950  ...   \n",
       "2                           541.0                   0.521413  ...   \n",
       "3                           230.0                   0.311929  ...   \n",
       "4                          6967.0                   1.371591  ...   \n",
       "\n",
       "   (0.03, 5, 10, 0.05, 0.01)  index(0.03, 5, 10, 0.05, 0.01)  \\\n",
       "0                   0.925156                          3373.0   \n",
       "1                   2.158750                          5551.0   \n",
       "2                   0.405898                           571.0   \n",
       "3                   0.247725                           461.0   \n",
       "4                   1.413028                          7063.0   \n",
       "\n",
       "   (0.03, 5, 10, 0.05, 0.02)  index(0.03, 5, 10, 0.05, 0.02)  \\\n",
       "0                   1.179878                          3843.0   \n",
       "1                   2.069429                          5066.0   \n",
       "2                   0.360140                           548.0   \n",
       "3                   0.360173                           651.0   \n",
       "4                   1.123907                          4651.0   \n",
       "\n",
       "   (0.03, 5, 10, 0.05, 0.03)  index(0.03, 5, 10, 0.05, 0.03)  \\\n",
       "0                   0.723794                          2503.0   \n",
       "1                   1.812577                          4045.0   \n",
       "2                   0.238661                           356.0   \n",
       "3                   0.102342                           195.0   \n",
       "4                   1.311407                          5934.0   \n",
       "\n",
       "   (0.03, 5, 10, 0.05, 0.04)  index(0.03, 5, 10, 0.05, 0.04)  \\\n",
       "0                   0.815872                          3078.0   \n",
       "1                   1.984643                          5087.0   \n",
       "2                   0.279838                           427.0   \n",
       "3                   0.148864                           262.0   \n",
       "4                   1.275163                          6029.0   \n",
       "\n",
       "   (0.03, 5, 10, 0.05, 0.05)  index(0.03, 5, 10, 0.05, 0.05)  \n",
       "0                   0.928255                          3542.0  \n",
       "1                   2.153004                          5540.0  \n",
       "2                   0.388207                           567.0  \n",
       "3                   0.285789                           540.0  \n",
       "4                   1.324967                          6439.0  \n",
       "\n",
       "[5 rows x 103 columns]"
      ]
     },
     "execution_count": 2,
     "metadata": {},
     "output_type": "execute_result"
    }
   ],
   "source": [
    "dev_test_0_50 = pd.read_csv(\"../raw_data/dev_test_0_50.csv\")\n",
    "dev_test_0_50.head()"
   ]
  },
  {
   "cell_type": "code",
   "execution_count": 3,
   "metadata": {},
   "outputs": [
    {
     "data": {
      "text/plain": [
       "Unnamed: 0                                                             431045642164\n",
       "most_fav_game                     Portal 2Counter-StrikeFar Cry 3Counter-StrikeT...\n",
       "sec_fav_game                      Alien SwarmBanishedLeft 4 Dead 2Worms Reloaded...\n",
       "(0.03, 1, 10, 0.05, 0.01)                                               2884.265187\n",
       "index(0.03, 1, 10, 0.05, 0.01)                                           12659529.0\n",
       "(0.03, 1, 10, 0.05, 0.02)                                               2947.750897\n",
       "index(0.03, 1, 10, 0.05, 0.02)                                           12980887.0\n",
       "(0.03, 1, 10, 0.05, 0.03)                                               2991.624319\n",
       "index(0.03, 1, 10, 0.05, 0.03)                                           13203073.0\n",
       "(0.03, 1, 10, 0.05, 0.04)                                               2861.621061\n",
       "index(0.03, 1, 10, 0.05, 0.04)                                           12721354.0\n",
       "(0.03, 1, 10, 0.05, 0.05)                                               2901.525187\n",
       "index(0.03, 1, 10, 0.05, 0.05)                                           12665653.0\n",
       "(0.03, 1, 10, 0.07, 0.01)                                               2895.769189\n",
       "index(0.03, 1, 10, 0.07, 0.01)                                           12972296.0\n",
       "(0.03, 1, 10, 0.07, 0.02)                                               2949.562804\n",
       "index(0.03, 1, 10, 0.07, 0.02)                                           13292409.0\n",
       "(0.03, 1, 10, 0.07, 0.03)                                               2869.924402\n",
       "index(0.03, 1, 10, 0.07, 0.03)                                           13011706.0\n",
       "(0.03, 1, 10, 0.07, 0.04)                                               2888.738935\n",
       "dtype: object"
      ]
     },
     "execution_count": 3,
     "metadata": {},
     "output_type": "execute_result"
    }
   ],
   "source": [
    "dev_test_0_50.iloc[:,0:20].sum()"
   ]
  },
  {
   "cell_type": "code",
   "execution_count": 4,
   "metadata": {},
   "outputs": [
    {
     "data": {
      "text/plain": [
       "index(0.03, 1, 10, 0.07, 0.04)    1.293464e+07\n",
       "(0.03, 1, 10, 0.07, 0.05)         2.926481e+03\n",
       "index(0.03, 1, 10, 0.07, 0.05)    1.366909e+07\n",
       "(0.03, 1, 10, 0.1, 0.01)          2.895408e+03\n",
       "index(0.03, 1, 10, 0.1, 0.01)     1.282768e+07\n",
       "(0.03, 1, 10, 0.1, 0.02)          2.856995e+03\n",
       "index(0.03, 1, 10, 0.1, 0.02)     1.267796e+07\n",
       "(0.03, 1, 10, 0.1, 0.03)          2.912029e+03\n",
       "index(0.03, 1, 10, 0.1, 0.03)     1.293675e+07\n",
       "(0.03, 1, 10, 0.1, 0.04)          3.029119e+03\n",
       "index(0.03, 1, 10, 0.1, 0.04)     1.359939e+07\n",
       "(0.03, 1, 10, 0.1, 0.05)          2.749454e+03\n",
       "index(0.03, 1, 10, 0.1, 0.05)     1.227016e+07\n",
       "(0.03, 1, 50, 0.05, 0.01)         2.800231e+03\n",
       "index(0.03, 1, 50, 0.05, 0.01)    1.214330e+07\n",
       "(0.03, 1, 50, 0.05, 0.02)         2.897008e+03\n",
       "index(0.03, 1, 50, 0.05, 0.02)    1.296325e+07\n",
       "(0.03, 1, 50, 0.05, 0.03)         2.854607e+03\n",
       "index(0.03, 1, 50, 0.05, 0.03)    1.251272e+07\n",
       "(0.03, 1, 50, 0.05, 0.04)         3.001492e+03\n",
       "dtype: float64"
      ]
     },
     "execution_count": 4,
     "metadata": {},
     "output_type": "execute_result"
    }
   ],
   "source": [
    "dev_test_0_50.iloc[:,20:40].sum()"
   ]
  },
  {
   "cell_type": "code",
   "execution_count": 5,
   "metadata": {},
   "outputs": [
    {
     "data": {
      "text/plain": [
       "index(0.03, 1, 50, 0.05, 0.04)    1.325020e+07\n",
       "(0.03, 1, 50, 0.05, 0.05)         2.831460e+03\n",
       "index(0.03, 1, 50, 0.05, 0.05)    1.261348e+07\n",
       "(0.03, 1, 50, 0.07, 0.01)         2.884178e+03\n",
       "index(0.03, 1, 50, 0.07, 0.01)    1.290083e+07\n",
       "(0.03, 1, 50, 0.07, 0.02)         2.913175e+03\n",
       "index(0.03, 1, 50, 0.07, 0.02)    1.262908e+07\n",
       "(0.03, 1, 50, 0.07, 0.03)         2.938136e+03\n",
       "index(0.03, 1, 50, 0.07, 0.03)    1.314308e+07\n",
       "(0.03, 1, 50, 0.07, 0.04)         2.905871e+03\n",
       "index(0.03, 1, 50, 0.07, 0.04)    1.295020e+07\n",
       "(0.03, 1, 50, 0.07, 0.05)         2.791740e+03\n",
       "index(0.03, 1, 50, 0.07, 0.05)    1.219076e+07\n",
       "(0.03, 1, 50, 0.1, 0.01)          2.895585e+03\n",
       "index(0.03, 1, 50, 0.1, 0.01)     1.239161e+07\n",
       "(0.03, 1, 50, 0.1, 0.02)          2.988235e+03\n",
       "index(0.03, 1, 50, 0.1, 0.02)     1.303136e+07\n",
       "(0.03, 1, 50, 0.1, 0.03)          2.954610e+03\n",
       "index(0.03, 1, 50, 0.1, 0.03)     1.295528e+07\n",
       "(0.03, 1, 50, 0.1, 0.04)          2.917066e+03\n",
       "dtype: float64"
      ]
     },
     "execution_count": 5,
     "metadata": {},
     "output_type": "execute_result"
    }
   ],
   "source": [
    "dev_test_0_50.iloc[:,40:60].sum()"
   ]
  },
  {
   "cell_type": "code",
   "execution_count": 6,
   "metadata": {},
   "outputs": [
    {
     "data": {
      "text/plain": [
       "index(0.03, 1, 50, 0.1, 0.04)     1.278706e+07\n",
       "(0.03, 1, 50, 0.1, 0.05)          2.940548e+03\n",
       "index(0.03, 1, 50, 0.1, 0.05)     1.286490e+07\n",
       "(0.03, 1, 70, 0.05, 0.01)         2.899757e+03\n",
       "index(0.03, 1, 70, 0.05, 0.01)    1.289965e+07\n",
       "(0.03, 1, 70, 0.05, 0.02)         2.928045e+03\n",
       "index(0.03, 1, 70, 0.05, 0.02)    1.308546e+07\n",
       "(0.03, 1, 70, 0.05, 0.03)         2.905886e+03\n",
       "index(0.03, 1, 70, 0.05, 0.03)    1.254464e+07\n",
       "(0.03, 1, 70, 0.05, 0.04)         2.883955e+03\n",
       "index(0.03, 1, 70, 0.05, 0.04)    1.257332e+07\n",
       "(0.03, 1, 70, 0.05, 0.05)         2.813303e+03\n",
       "index(0.03, 1, 70, 0.05, 0.05)    1.264378e+07\n",
       "(0.03, 1, 70, 0.07, 0.01)         2.970342e+03\n",
       "index(0.03, 1, 70, 0.07, 0.01)    1.349615e+07\n",
       "(0.03, 1, 70, 0.07, 0.02)         2.926285e+03\n",
       "index(0.03, 1, 70, 0.07, 0.02)    1.275261e+07\n",
       "(0.03, 1, 70, 0.07, 0.03)         3.022694e+03\n",
       "index(0.03, 1, 70, 0.07, 0.03)    1.339366e+07\n",
       "(0.03, 1, 70, 0.07, 0.04)         2.999013e+03\n",
       "index(0.03, 1, 70, 0.07, 0.04)    1.338732e+07\n",
       "(0.03, 1, 70, 0.07, 0.05)         2.788745e+03\n",
       "index(0.03, 1, 70, 0.07, 0.05)    1.203391e+07\n",
       "(0.03, 1, 70, 0.1, 0.01)          2.867736e+03\n",
       "index(0.03, 1, 70, 0.1, 0.01)     1.267633e+07\n",
       "(0.03, 1, 70, 0.1, 0.02)          2.815815e+03\n",
       "index(0.03, 1, 70, 0.1, 0.02)     1.234520e+07\n",
       "(0.03, 1, 70, 0.1, 0.03)          2.769051e+03\n",
       "index(0.03, 1, 70, 0.1, 0.03)     1.217909e+07\n",
       "(0.03, 1, 70, 0.1, 0.04)          2.887539e+03\n",
       "index(0.03, 1, 70, 0.1, 0.04)     1.280349e+07\n",
       "(0.03, 1, 70, 0.1, 0.05)          2.911630e+03\n",
       "index(0.03, 1, 70, 0.1, 0.05)     1.287142e+07\n",
       "(0.03, 5, 10, 0.05, 0.01)         2.886817e+03\n",
       "index(0.03, 5, 10, 0.05, 0.01)    1.272481e+07\n",
       "(0.03, 5, 10, 0.05, 0.02)         2.898765e+03\n",
       "index(0.03, 5, 10, 0.05, 0.02)    1.285074e+07\n",
       "(0.03, 5, 10, 0.05, 0.03)         2.911936e+03\n",
       "index(0.03, 5, 10, 0.05, 0.03)    1.237517e+07\n",
       "(0.03, 5, 10, 0.05, 0.04)         2.873972e+03\n",
       "index(0.03, 5, 10, 0.05, 0.04)    1.241498e+07\n",
       "(0.03, 5, 10, 0.05, 0.05)         2.916605e+03\n",
       "index(0.03, 5, 10, 0.05, 0.05)    1.293524e+07\n",
       "dtype: float64"
      ]
     },
     "execution_count": 6,
     "metadata": {},
     "output_type": "execute_result"
    }
   ],
   "source": [
    "dev_test_0_50.iloc[:,60:].sum()"
   ]
  },
  {
   "cell_type": "code",
   "execution_count": 7,
   "metadata": {},
   "outputs": [
    {
     "data": {
      "text/plain": [
       "(3184, 103)"
      ]
     },
     "execution_count": 7,
     "metadata": {},
     "output_type": "execute_result"
    }
   ],
   "source": [
    "dev_test_0_50.shape"
   ]
  },
  {
   "cell_type": "code",
   "execution_count": 8,
   "metadata": {},
   "outputs": [
    {
     "data": {
      "text/plain": [
       "(3184, 203)"
      ]
     },
     "execution_count": 8,
     "metadata": {},
     "output_type": "execute_result"
    }
   ],
   "source": [
    "dev_test_0_99 = pd.read_csv(\"../raw_data/dev_test_0_99.csv\")\n",
    "dev_test_0_99.shape"
   ]
  },
  {
   "cell_type": "code",
   "execution_count": 10,
   "metadata": {},
   "outputs": [
    {
     "data": {
      "text/plain": [
       "index(0.03, 5, 10, 0.05, 0.04)    1.241498e+07\n",
       "(0.03, 5, 10, 0.05, 0.05)         2.916605e+03\n",
       "index(0.03, 5, 10, 0.05, 0.05)    1.293524e+07\n",
       "(0.03, 5, 10, 0.07, 0.01)         2.929645e+03\n",
       "index(0.03, 5, 10, 0.07, 0.01)    1.288377e+07\n",
       "(0.03, 5, 10, 0.07, 0.02)         2.898212e+03\n",
       "index(0.03, 5, 10, 0.07, 0.02)    1.276361e+07\n",
       "(0.03, 5, 10, 0.07, 0.03)         2.847504e+03\n",
       "index(0.03, 5, 10, 0.07, 0.03)    1.224774e+07\n",
       "(0.03, 5, 10, 0.07, 0.04)         2.911339e+03\n",
       "index(0.03, 5, 10, 0.07, 0.04)    1.259112e+07\n",
       "(0.03, 5, 10, 0.07, 0.05)         2.905676e+03\n",
       "index(0.03, 5, 10, 0.07, 0.05)    1.293658e+07\n",
       "(0.03, 5, 10, 0.1, 0.01)          2.786990e+03\n",
       "index(0.03, 5, 10, 0.1, 0.01)     1.222638e+07\n",
       "(0.03, 5, 10, 0.1, 0.02)          2.819748e+03\n",
       "index(0.03, 5, 10, 0.1, 0.02)     1.223941e+07\n",
       "(0.03, 5, 10, 0.1, 0.03)          2.921893e+03\n",
       "index(0.03, 5, 10, 0.1, 0.03)     1.279138e+07\n",
       "(0.03, 5, 10, 0.1, 0.04)          2.957632e+03\n",
       "dtype: float64"
      ]
     },
     "execution_count": 10,
     "metadata": {},
     "output_type": "execute_result"
    }
   ],
   "source": [
    "dev_test_0_99.iloc[:,100:120].sum()"
   ]
  },
  {
   "cell_type": "code",
   "execution_count": 11,
   "metadata": {},
   "outputs": [
    {
     "data": {
      "text/plain": [
       "index(0.03, 5, 10, 0.1, 0.04)     1.306478e+07\n",
       "(0.03, 5, 10, 0.1, 0.05)          3.015070e+03\n",
       "index(0.03, 5, 10, 0.1, 0.05)     1.319117e+07\n",
       "(0.03, 5, 50, 0.05, 0.01)         3.061228e+03\n",
       "index(0.03, 5, 50, 0.05, 0.01)    1.397230e+07\n",
       "(0.03, 5, 50, 0.05, 0.02)         2.922693e+03\n",
       "index(0.03, 5, 50, 0.05, 0.02)    1.301788e+07\n",
       "(0.03, 5, 50, 0.05, 0.03)         2.971342e+03\n",
       "index(0.03, 5, 50, 0.05, 0.03)    1.320041e+07\n",
       "(0.03, 5, 50, 0.05, 0.04)         2.881074e+03\n",
       "index(0.03, 5, 50, 0.05, 0.04)    1.292425e+07\n",
       "(0.03, 5, 50, 0.05, 0.05)         2.866944e+03\n",
       "index(0.03, 5, 50, 0.05, 0.05)    1.276344e+07\n",
       "(0.03, 5, 50, 0.07, 0.01)         2.950482e+03\n",
       "index(0.03, 5, 50, 0.07, 0.01)    1.310476e+07\n",
       "(0.03, 5, 50, 0.07, 0.02)         2.791152e+03\n",
       "index(0.03, 5, 50, 0.07, 0.02)    1.232916e+07\n",
       "(0.03, 5, 50, 0.07, 0.03)         2.879406e+03\n",
       "index(0.03, 5, 50, 0.07, 0.03)    1.291667e+07\n",
       "(0.03, 5, 50, 0.07, 0.04)         2.896305e+03\n",
       "dtype: float64"
      ]
     },
     "execution_count": 11,
     "metadata": {},
     "output_type": "execute_result"
    }
   ],
   "source": [
    "dev_test_0_99.iloc[:,120:140].sum()"
   ]
  },
  {
   "cell_type": "code",
   "execution_count": 12,
   "metadata": {},
   "outputs": [
    {
     "data": {
      "text/plain": [
       "index(0.03, 5, 50, 0.07, 0.04)    1.276374e+07\n",
       "(0.03, 5, 50, 0.07, 0.05)         2.844646e+03\n",
       "index(0.03, 5, 50, 0.07, 0.05)    1.219853e+07\n",
       "(0.03, 5, 50, 0.1, 0.01)          2.845956e+03\n",
       "index(0.03, 5, 50, 0.1, 0.01)     1.273997e+07\n",
       "(0.03, 5, 50, 0.1, 0.02)          3.010019e+03\n",
       "index(0.03, 5, 50, 0.1, 0.02)     1.336225e+07\n",
       "(0.03, 5, 50, 0.1, 0.03)          2.930117e+03\n",
       "index(0.03, 5, 50, 0.1, 0.03)     1.249681e+07\n",
       "(0.03, 5, 50, 0.1, 0.04)          3.001029e+03\n",
       "index(0.03, 5, 50, 0.1, 0.04)     1.316596e+07\n",
       "(0.03, 5, 50, 0.1, 0.05)          2.911723e+03\n",
       "index(0.03, 5, 50, 0.1, 0.05)     1.282646e+07\n",
       "(0.03, 5, 70, 0.05, 0.01)         2.936961e+03\n",
       "index(0.03, 5, 70, 0.05, 0.01)    1.245484e+07\n",
       "(0.03, 5, 70, 0.05, 0.02)         2.743934e+03\n",
       "index(0.03, 5, 70, 0.05, 0.02)    1.210774e+07\n",
       "(0.03, 5, 70, 0.05, 0.03)         2.826724e+03\n",
       "index(0.03, 5, 70, 0.05, 0.03)    1.236141e+07\n",
       "(0.03, 5, 70, 0.05, 0.04)         2.873287e+03\n",
       "dtype: float64"
      ]
     },
     "execution_count": 12,
     "metadata": {},
     "output_type": "execute_result"
    }
   ],
   "source": [
    "dev_test_0_99.iloc[:,140:160].sum()"
   ]
  },
  {
   "cell_type": "code",
   "execution_count": 13,
   "metadata": {},
   "outputs": [
    {
     "data": {
      "text/plain": [
       "index(0.03, 5, 70, 0.05, 0.04)    1.253071e+07\n",
       "(0.03, 5, 70, 0.05, 0.05)         2.911208e+03\n",
       "index(0.03, 5, 70, 0.05, 0.05)    1.282347e+07\n",
       "(0.03, 5, 70, 0.07, 0.01)         2.943408e+03\n",
       "index(0.03, 5, 70, 0.07, 0.01)    1.329483e+07\n",
       "(0.03, 5, 70, 0.07, 0.02)         2.988086e+03\n",
       "index(0.03, 5, 70, 0.07, 0.02)    1.306199e+07\n",
       "(0.03, 5, 70, 0.07, 0.03)         2.809037e+03\n",
       "index(0.03, 5, 70, 0.07, 0.03)    1.195170e+07\n",
       "(0.03, 5, 70, 0.07, 0.04)         2.943445e+03\n",
       "index(0.03, 5, 70, 0.07, 0.04)    1.282516e+07\n",
       "(0.03, 5, 70, 0.07, 0.05)         2.831618e+03\n",
       "index(0.03, 5, 70, 0.07, 0.05)    1.227469e+07\n",
       "(0.03, 5, 70, 0.1, 0.01)          2.980297e+03\n",
       "index(0.03, 5, 70, 0.1, 0.01)     1.295249e+07\n",
       "(0.03, 5, 70, 0.1, 0.02)          2.918461e+03\n",
       "index(0.03, 5, 70, 0.1, 0.02)     1.287373e+07\n",
       "(0.03, 5, 70, 0.1, 0.03)          2.903483e+03\n",
       "index(0.03, 5, 70, 0.1, 0.03)     1.267923e+07\n",
       "(0.03, 5, 70, 0.1, 0.04)          2.878353e+03\n",
       "dtype: float64"
      ]
     },
     "execution_count": 13,
     "metadata": {},
     "output_type": "execute_result"
    }
   ],
   "source": [
    "dev_test_0_99.iloc[:,160:180].sum()"
   ]
  },
  {
   "cell_type": "code",
   "execution_count": 14,
   "metadata": {},
   "outputs": [
    {
     "data": {
      "text/plain": [
       "index(0.03, 5, 70, 0.1, 0.04)      1.275228e+07\n",
       "(0.03, 5, 70, 0.1, 0.05)           2.932286e+03\n",
       "index(0.03, 5, 70, 0.1, 0.05)      1.301151e+07\n",
       "(0.03, 10, 10, 0.05, 0.01)         2.943217e+03\n",
       "index(0.03, 10, 10, 0.05, 0.01)    1.266760e+07\n",
       "(0.03, 10, 10, 0.05, 0.02)         2.942376e+03\n",
       "index(0.03, 10, 10, 0.05, 0.02)    1.303763e+07\n",
       "(0.03, 10, 10, 0.05, 0.03)         2.753797e+03\n",
       "index(0.03, 10, 10, 0.05, 0.03)    1.196448e+07\n",
       "(0.03, 10, 10, 0.05, 0.04)         2.946471e+03\n",
       "index(0.03, 10, 10, 0.05, 0.04)    1.304002e+07\n",
       "(0.03, 10, 10, 0.05, 0.05)         2.955777e+03\n",
       "index(0.03, 10, 10, 0.05, 0.05)    1.307530e+07\n",
       "(0.03, 10, 10, 0.07, 0.01)         2.893113e+03\n",
       "index(0.03, 10, 10, 0.07, 0.01)    1.273969e+07\n",
       "(0.03, 10, 10, 0.07, 0.02)         2.924802e+03\n",
       "index(0.03, 10, 10, 0.07, 0.02)    1.222389e+07\n",
       "(0.03, 10, 10, 0.07, 0.03)         2.851577e+03\n",
       "index(0.03, 10, 10, 0.07, 0.03)    1.246171e+07\n",
       "(0.03, 10, 10, 0.07, 0.04)         2.901606e+03\n",
       "index(0.03, 10, 10, 0.07, 0.04)    1.301224e+07\n",
       "(0.03, 10, 10, 0.07, 0.05)         2.804556e+03\n",
       "index(0.03, 10, 10, 0.07, 0.05)    1.202240e+07\n",
       "dtype: float64"
      ]
     },
     "execution_count": 14,
     "metadata": {},
     "output_type": "execute_result"
    }
   ],
   "source": [
    "dev_test_0_99.iloc[:,180:].sum()"
   ]
  },
  {
   "cell_type": "code",
   "execution_count": 15,
   "metadata": {},
   "outputs": [
    {
     "data": {
      "text/plain": [
       "(3184, 203)"
      ]
     },
     "execution_count": 15,
     "metadata": {},
     "output_type": "execute_result"
    }
   ],
   "source": [
    "dev_test_100_199 = pd.read_csv(\"../raw_data/dev_test_100_199.csv\")\n",
    "dev_test_100_199.shape"
   ]
  },
  {
   "cell_type": "code",
   "execution_count": 16,
   "metadata": {},
   "outputs": [
    {
     "data": {
      "text/plain": [
       "Unnamed: 0                                                              431045642164\n",
       "most_fav_game                      Portal 2Counter-StrikeFar Cry 3Counter-StrikeT...\n",
       "sec_fav_game                       Alien SwarmBanishedLeft 4 Dead 2Worms Reloaded...\n",
       "(0.03, 10, 10, 0.1, 0.01)                                                2874.332467\n",
       "index(0.03, 10, 10, 0.1, 0.01)                                            12682356.0\n",
       "(0.03, 10, 10, 0.1, 0.02)                                                2661.008717\n",
       "index(0.03, 10, 10, 0.1, 0.02)                                            11584805.0\n",
       "(0.03, 10, 10, 0.1, 0.03)                                                2903.752766\n",
       "index(0.03, 10, 10, 0.1, 0.03)                                            12951532.0\n",
       "(0.03, 10, 10, 0.1, 0.04)                                                3001.647326\n",
       "index(0.03, 10, 10, 0.1, 0.04)                                            13350538.0\n",
       "(0.03, 10, 10, 0.1, 0.05)                                                2921.555065\n",
       "index(0.03, 10, 10, 0.1, 0.05)                                            12836909.0\n",
       "(0.03, 10, 50, 0.05, 0.01)                                               2873.126633\n",
       "index(0.03, 10, 50, 0.05, 0.01)                                           12520977.0\n",
       "(0.03, 10, 50, 0.05, 0.02)                                               2938.740331\n",
       "index(0.03, 10, 50, 0.05, 0.02)                                           12849587.0\n",
       "(0.03, 10, 50, 0.05, 0.03)                                               2792.851217\n",
       "index(0.03, 10, 50, 0.05, 0.03)                                           12458469.0\n",
       "(0.03, 10, 50, 0.05, 0.04)                                               2893.904551\n",
       "dtype: object"
      ]
     },
     "execution_count": 16,
     "metadata": {},
     "output_type": "execute_result"
    }
   ],
   "source": [
    "dev_test_100_199.iloc[:,0:20].sum()"
   ]
  },
  {
   "cell_type": "code",
   "execution_count": 17,
   "metadata": {},
   "outputs": [
    {
     "data": {
      "text/plain": [
       "index(0.03, 10, 50, 0.05, 0.04)    1.273425e+07\n",
       "(0.03, 10, 50, 0.05, 0.05)         2.905833e+03\n",
       "index(0.03, 10, 50, 0.05, 0.05)    1.283279e+07\n",
       "(0.03, 10, 50, 0.07, 0.01)         2.898528e+03\n",
       "index(0.03, 10, 50, 0.07, 0.01)    1.292639e+07\n",
       "(0.03, 10, 50, 0.07, 0.02)         2.907823e+03\n",
       "index(0.03, 10, 50, 0.07, 0.02)    1.282382e+07\n",
       "(0.03, 10, 50, 0.07, 0.03)         2.948478e+03\n",
       "index(0.03, 10, 50, 0.07, 0.03)    1.307894e+07\n",
       "(0.03, 10, 50, 0.07, 0.04)         3.019394e+03\n",
       "index(0.03, 10, 50, 0.07, 0.04)    1.412597e+07\n",
       "(0.03, 10, 50, 0.07, 0.05)         2.884899e+03\n",
       "index(0.03, 10, 50, 0.07, 0.05)    1.278495e+07\n",
       "(0.03, 10, 50, 0.1, 0.01)          2.978864e+03\n",
       "index(0.03, 10, 50, 0.1, 0.01)     1.306693e+07\n",
       "(0.03, 10, 50, 0.1, 0.02)          2.861946e+03\n",
       "index(0.03, 10, 50, 0.1, 0.02)     1.255420e+07\n",
       "(0.03, 10, 50, 0.1, 0.03)          2.901372e+03\n",
       "index(0.03, 10, 50, 0.1, 0.03)     1.283968e+07\n",
       "(0.03, 10, 50, 0.1, 0.04)          3.003140e+03\n",
       "dtype: float64"
      ]
     },
     "execution_count": 17,
     "metadata": {},
     "output_type": "execute_result"
    }
   ],
   "source": [
    "dev_test_100_199.iloc[:,20:40].sum()"
   ]
  },
  {
   "cell_type": "code",
   "execution_count": 18,
   "metadata": {},
   "outputs": [
    {
     "data": {
      "text/plain": [
       "index(0.03, 10, 50, 0.1, 0.04)     1.341525e+07\n",
       "(0.03, 10, 50, 0.1, 0.05)          2.964284e+03\n",
       "index(0.03, 10, 50, 0.1, 0.05)     1.288700e+07\n",
       "(0.03, 10, 70, 0.05, 0.01)         2.835453e+03\n",
       "index(0.03, 10, 70, 0.05, 0.01)    1.226481e+07\n",
       "(0.03, 10, 70, 0.05, 0.02)         2.953243e+03\n",
       "index(0.03, 10, 70, 0.05, 0.02)    1.301064e+07\n",
       "(0.03, 10, 70, 0.05, 0.03)         2.799000e+03\n",
       "index(0.03, 10, 70, 0.05, 0.03)    1.220875e+07\n",
       "(0.03, 10, 70, 0.05, 0.04)         2.816844e+03\n",
       "index(0.03, 10, 70, 0.05, 0.04)    1.209728e+07\n",
       "(0.03, 10, 70, 0.05, 0.05)         2.981659e+03\n",
       "index(0.03, 10, 70, 0.05, 0.05)    1.347830e+07\n",
       "(0.03, 10, 70, 0.07, 0.01)         2.777671e+03\n",
       "index(0.03, 10, 70, 0.07, 0.01)    1.223147e+07\n",
       "(0.03, 10, 70, 0.07, 0.02)         2.833312e+03\n",
       "index(0.03, 10, 70, 0.07, 0.02)    1.207896e+07\n",
       "(0.03, 10, 70, 0.07, 0.03)         2.962973e+03\n",
       "index(0.03, 10, 70, 0.07, 0.03)    1.309653e+07\n",
       "(0.03, 10, 70, 0.07, 0.04)         2.961869e+03\n",
       "dtype: float64"
      ]
     },
     "execution_count": 18,
     "metadata": {},
     "output_type": "execute_result"
    }
   ],
   "source": [
    "dev_test_100_199.iloc[:,40:60].sum()"
   ]
  },
  {
   "cell_type": "code",
   "execution_count": 19,
   "metadata": {},
   "outputs": [
    {
     "data": {
      "text/plain": [
       "index(0.03, 10, 50, 0.1, 0.04)     1.341525e+07\n",
       "(0.03, 10, 50, 0.1, 0.05)          2.964284e+03\n",
       "index(0.03, 10, 50, 0.1, 0.05)     1.288700e+07\n",
       "(0.03, 10, 70, 0.05, 0.01)         2.835453e+03\n",
       "index(0.03, 10, 70, 0.05, 0.01)    1.226481e+07\n",
       "(0.03, 10, 70, 0.05, 0.02)         2.953243e+03\n",
       "index(0.03, 10, 70, 0.05, 0.02)    1.301064e+07\n",
       "(0.03, 10, 70, 0.05, 0.03)         2.799000e+03\n",
       "index(0.03, 10, 70, 0.05, 0.03)    1.220875e+07\n",
       "(0.03, 10, 70, 0.05, 0.04)         2.816844e+03\n",
       "index(0.03, 10, 70, 0.05, 0.04)    1.209728e+07\n",
       "(0.03, 10, 70, 0.05, 0.05)         2.981659e+03\n",
       "index(0.03, 10, 70, 0.05, 0.05)    1.347830e+07\n",
       "(0.03, 10, 70, 0.07, 0.01)         2.777671e+03\n",
       "index(0.03, 10, 70, 0.07, 0.01)    1.223147e+07\n",
       "(0.03, 10, 70, 0.07, 0.02)         2.833312e+03\n",
       "index(0.03, 10, 70, 0.07, 0.02)    1.207896e+07\n",
       "(0.03, 10, 70, 0.07, 0.03)         2.962973e+03\n",
       "index(0.03, 10, 70, 0.07, 0.03)    1.309653e+07\n",
       "(0.03, 10, 70, 0.07, 0.04)         2.961869e+03\n",
       "index(0.03, 10, 70, 0.07, 0.04)    1.304790e+07\n",
       "(0.03, 10, 70, 0.07, 0.05)         2.969811e+03\n",
       "index(0.03, 10, 70, 0.07, 0.05)    1.269556e+07\n",
       "(0.03, 10, 70, 0.1, 0.01)          2.890771e+03\n",
       "index(0.03, 10, 70, 0.1, 0.01)     1.271706e+07\n",
       "(0.03, 10, 70, 0.1, 0.02)          2.847071e+03\n",
       "index(0.03, 10, 70, 0.1, 0.02)     1.216273e+07\n",
       "(0.03, 10, 70, 0.1, 0.03)          2.918379e+03\n",
       "index(0.03, 10, 70, 0.1, 0.03)     1.264915e+07\n",
       "(0.03, 10, 70, 0.1, 0.04)          2.884320e+03\n",
       "index(0.03, 10, 70, 0.1, 0.04)     1.242777e+07\n",
       "(0.03, 10, 70, 0.1, 0.05)          2.922734e+03\n",
       "index(0.03, 10, 70, 0.1, 0.05)     1.268745e+07\n",
       "(0.05, 1, 10, 0.05, 0.01)          2.820012e+03\n",
       "index(0.05, 1, 10, 0.05, 0.01)     1.231710e+07\n",
       "(0.05, 1, 10, 0.05, 0.02)          2.852066e+03\n",
       "index(0.05, 1, 10, 0.05, 0.02)     1.250425e+07\n",
       "(0.05, 1, 10, 0.05, 0.03)          2.803734e+03\n",
       "index(0.05, 1, 10, 0.05, 0.03)     1.217103e+07\n",
       "(0.05, 1, 10, 0.05, 0.04)          2.970324e+03\n",
       "dtype: float64"
      ]
     },
     "execution_count": 19,
     "metadata": {},
     "output_type": "execute_result"
    }
   ],
   "source": [
    "dev_test_100_199.iloc[:,40:80].sum()"
   ]
  },
  {
   "cell_type": "code",
   "execution_count": 20,
   "metadata": {},
   "outputs": [
    {
     "data": {
      "text/plain": [
       "index(0.05, 1, 10, 0.05, 0.04)    1.263085e+07\n",
       "(0.05, 1, 10, 0.05, 0.05)         2.902106e+03\n",
       "index(0.05, 1, 10, 0.05, 0.05)    1.297694e+07\n",
       "(0.05, 1, 10, 0.07, 0.01)         2.913100e+03\n",
       "index(0.05, 1, 10, 0.07, 0.01)    1.286718e+07\n",
       "(0.05, 1, 10, 0.07, 0.02)         2.902758e+03\n",
       "index(0.05, 1, 10, 0.07, 0.02)    1.312529e+07\n",
       "(0.05, 1, 10, 0.07, 0.03)         2.875692e+03\n",
       "index(0.05, 1, 10, 0.07, 0.03)    1.274477e+07\n",
       "(0.05, 1, 10, 0.07, 0.04)         2.929176e+03\n",
       "index(0.05, 1, 10, 0.07, 0.04)    1.284309e+07\n",
       "(0.05, 1, 10, 0.07, 0.05)         2.961215e+03\n",
       "index(0.05, 1, 10, 0.07, 0.05)    1.301376e+07\n",
       "(0.05, 1, 10, 0.1, 0.01)          2.859264e+03\n",
       "index(0.05, 1, 10, 0.1, 0.01)     1.253774e+07\n",
       "(0.05, 1, 10, 0.1, 0.02)          2.907246e+03\n",
       "index(0.05, 1, 10, 0.1, 0.02)     1.289552e+07\n",
       "(0.05, 1, 10, 0.1, 0.03)          2.816806e+03\n",
       "index(0.05, 1, 10, 0.1, 0.03)     1.242926e+07\n",
       "(0.05, 1, 10, 0.1, 0.04)          2.736028e+03\n",
       "index(0.05, 1, 10, 0.1, 0.04)     1.217771e+07\n",
       "(0.05, 1, 10, 0.1, 0.05)          3.003557e+03\n",
       "index(0.05, 1, 10, 0.1, 0.05)     1.431736e+07\n",
       "(0.05, 1, 50, 0.05, 0.01)         3.077496e+03\n",
       "index(0.05, 1, 50, 0.05, 0.01)    1.403205e+07\n",
       "(0.05, 1, 50, 0.05, 0.02)         2.899508e+03\n",
       "index(0.05, 1, 50, 0.05, 0.02)    1.266727e+07\n",
       "(0.05, 1, 50, 0.05, 0.03)         2.819221e+03\n",
       "index(0.05, 1, 50, 0.05, 0.03)    1.258950e+07\n",
       "(0.05, 1, 50, 0.05, 0.04)         3.002050e+03\n",
       "index(0.05, 1, 50, 0.05, 0.04)    1.286849e+07\n",
       "(0.05, 1, 50, 0.05, 0.05)         2.989200e+03\n",
       "index(0.05, 1, 50, 0.05, 0.05)    1.319986e+07\n",
       "(0.05, 1, 50, 0.07, 0.01)         2.956015e+03\n",
       "index(0.05, 1, 50, 0.07, 0.01)    1.306523e+07\n",
       "(0.05, 1, 50, 0.07, 0.02)         2.826201e+03\n",
       "index(0.05, 1, 50, 0.07, 0.02)    1.261948e+07\n",
       "(0.05, 1, 50, 0.07, 0.03)         2.863691e+03\n",
       "index(0.05, 1, 50, 0.07, 0.03)    1.262314e+07\n",
       "(0.05, 1, 50, 0.07, 0.04)         2.867832e+03\n",
       "dtype: float64"
      ]
     },
     "execution_count": 20,
     "metadata": {},
     "output_type": "execute_result"
    }
   ],
   "source": [
    "dev_test_100_199.iloc[:,80:120].sum()"
   ]
  },
  {
   "cell_type": "code",
   "execution_count": 21,
   "metadata": {},
   "outputs": [
    {
     "data": {
      "text/plain": [
       "index(0.05, 1, 50, 0.07, 0.04)    1.289592e+07\n",
       "(0.05, 1, 50, 0.07, 0.05)         2.905536e+03\n",
       "index(0.05, 1, 50, 0.07, 0.05)    1.253010e+07\n",
       "(0.05, 1, 50, 0.1, 0.01)          2.923556e+03\n",
       "index(0.05, 1, 50, 0.1, 0.01)     1.270030e+07\n",
       "(0.05, 1, 50, 0.1, 0.02)          2.982803e+03\n",
       "index(0.05, 1, 50, 0.1, 0.02)     1.290578e+07\n",
       "(0.05, 1, 50, 0.1, 0.03)          2.950059e+03\n",
       "index(0.05, 1, 50, 0.1, 0.03)     1.325081e+07\n",
       "(0.05, 1, 50, 0.1, 0.04)          2.970171e+03\n",
       "index(0.05, 1, 50, 0.1, 0.04)     1.366421e+07\n",
       "(0.05, 1, 50, 0.1, 0.05)          2.746726e+03\n",
       "index(0.05, 1, 50, 0.1, 0.05)     1.226538e+07\n",
       "(0.05, 1, 70, 0.05, 0.01)         2.849801e+03\n",
       "index(0.05, 1, 70, 0.05, 0.01)    1.250735e+07\n",
       "(0.05, 1, 70, 0.05, 0.02)         2.882879e+03\n",
       "index(0.05, 1, 70, 0.05, 0.02)    1.277244e+07\n",
       "(0.05, 1, 70, 0.05, 0.03)         2.970241e+03\n",
       "index(0.05, 1, 70, 0.05, 0.03)    1.332631e+07\n",
       "(0.05, 1, 70, 0.05, 0.04)         2.987418e+03\n",
       "index(0.05, 1, 70, 0.05, 0.04)    1.333237e+07\n",
       "(0.05, 1, 70, 0.05, 0.05)         2.874649e+03\n",
       "index(0.05, 1, 70, 0.05, 0.05)    1.267424e+07\n",
       "(0.05, 1, 70, 0.07, 0.01)         2.877883e+03\n",
       "index(0.05, 1, 70, 0.07, 0.01)    1.256731e+07\n",
       "(0.05, 1, 70, 0.07, 0.02)         2.920402e+03\n",
       "index(0.05, 1, 70, 0.07, 0.02)    1.298872e+07\n",
       "(0.05, 1, 70, 0.07, 0.03)         2.909397e+03\n",
       "index(0.05, 1, 70, 0.07, 0.03)    1.279069e+07\n",
       "(0.05, 1, 70, 0.07, 0.04)         2.977271e+03\n",
       "index(0.05, 1, 70, 0.07, 0.04)    1.299729e+07\n",
       "(0.05, 1, 70, 0.07, 0.05)         3.019110e+03\n",
       "index(0.05, 1, 70, 0.07, 0.05)    1.335746e+07\n",
       "(0.05, 1, 70, 0.1, 0.01)          2.894850e+03\n",
       "index(0.05, 1, 70, 0.1, 0.01)     1.247163e+07\n",
       "(0.05, 1, 70, 0.1, 0.02)          2.900512e+03\n",
       "index(0.05, 1, 70, 0.1, 0.02)     1.285031e+07\n",
       "(0.05, 1, 70, 0.1, 0.03)          2.890839e+03\n",
       "index(0.05, 1, 70, 0.1, 0.03)     1.270315e+07\n",
       "(0.05, 1, 70, 0.1, 0.04)          2.826132e+03\n",
       "dtype: float64"
      ]
     },
     "execution_count": 21,
     "metadata": {},
     "output_type": "execute_result"
    }
   ],
   "source": [
    "dev_test_100_199.iloc[:,120:160].sum()"
   ]
  },
  {
   "cell_type": "code",
   "execution_count": 22,
   "metadata": {},
   "outputs": [
    {
     "data": {
      "text/plain": [
       "index(0.05, 1, 70, 0.1, 0.04)     1.237230e+07\n",
       "(0.05, 1, 70, 0.1, 0.05)          2.944926e+03\n",
       "index(0.05, 1, 70, 0.1, 0.05)     1.283630e+07\n",
       "(0.05, 5, 10, 0.05, 0.01)         2.947505e+03\n",
       "index(0.05, 5, 10, 0.05, 0.01)    1.313109e+07\n",
       "(0.05, 5, 10, 0.05, 0.02)         2.817669e+03\n",
       "index(0.05, 5, 10, 0.05, 0.02)    1.240980e+07\n",
       "(0.05, 5, 10, 0.05, 0.03)         2.869953e+03\n",
       "index(0.05, 5, 10, 0.05, 0.03)    1.251666e+07\n",
       "(0.05, 5, 10, 0.05, 0.04)         2.858757e+03\n",
       "index(0.05, 5, 10, 0.05, 0.04)    1.264355e+07\n",
       "(0.05, 5, 10, 0.05, 0.05)         3.054610e+03\n",
       "index(0.05, 5, 10, 0.05, 0.05)    1.393412e+07\n",
       "(0.05, 5, 10, 0.07, 0.01)         3.025485e+03\n",
       "index(0.05, 5, 10, 0.07, 0.01)    1.327945e+07\n",
       "(0.05, 5, 10, 0.07, 0.02)         2.739116e+03\n",
       "index(0.05, 5, 10, 0.07, 0.02)    1.219380e+07\n",
       "(0.05, 5, 10, 0.07, 0.03)         2.785961e+03\n",
       "index(0.05, 5, 10, 0.07, 0.03)    1.230284e+07\n",
       "(0.05, 5, 10, 0.07, 0.04)         2.838163e+03\n",
       "index(0.05, 5, 10, 0.07, 0.04)    1.238417e+07\n",
       "(0.05, 5, 10, 0.07, 0.05)         3.034063e+03\n",
       "index(0.05, 5, 10, 0.07, 0.05)    1.327480e+07\n",
       "(0.05, 5, 10, 0.1, 0.01)          2.936199e+03\n",
       "index(0.05, 5, 10, 0.1, 0.01)     1.290612e+07\n",
       "(0.05, 5, 10, 0.1, 0.02)          2.997048e+03\n",
       "index(0.05, 5, 10, 0.1, 0.02)     1.333951e+07\n",
       "(0.05, 5, 10, 0.1, 0.03)          2.878454e+03\n",
       "index(0.05, 5, 10, 0.1, 0.03)     1.266341e+07\n",
       "(0.05, 5, 10, 0.1, 0.04)          2.894673e+03\n",
       "index(0.05, 5, 10, 0.1, 0.04)     1.294763e+07\n",
       "(0.05, 5, 10, 0.1, 0.05)          2.944627e+03\n",
       "index(0.05, 5, 10, 0.1, 0.05)     1.315962e+07\n",
       "(0.05, 5, 50, 0.05, 0.01)         2.900401e+03\n",
       "index(0.05, 5, 50, 0.05, 0.01)    1.296348e+07\n",
       "(0.05, 5, 50, 0.05, 0.02)         3.029924e+03\n",
       "index(0.05, 5, 50, 0.05, 0.02)    1.337514e+07\n",
       "(0.05, 5, 50, 0.05, 0.03)         2.856375e+03\n",
       "index(0.05, 5, 50, 0.05, 0.03)    1.239369e+07\n",
       "(0.05, 5, 50, 0.05, 0.04)         2.861449e+03\n",
       "index(0.05, 5, 50, 0.05, 0.04)    1.288112e+07\n",
       "(0.05, 5, 50, 0.05, 0.05)         2.898901e+03\n",
       "index(0.05, 5, 50, 0.05, 0.05)    1.234204e+07\n",
       "dtype: float64"
      ]
     },
     "execution_count": 22,
     "metadata": {},
     "output_type": "execute_result"
    }
   ],
   "source": [
    "dev_test_100_199.iloc[:,160:].sum()"
   ]
  },
  {
   "cell_type": "code",
   "execution_count": 23,
   "metadata": {},
   "outputs": [
    {
     "data": {
      "text/plain": [
       "(3184, 303)"
      ]
     },
     "execution_count": 23,
     "metadata": {},
     "output_type": "execute_result"
    }
   ],
   "source": [
    "dev_test_100_250 = pd.read_csv(\"../raw_data/dev_test_100_250.csv\")\n",
    "dev_test_100_250.shape"
   ]
  },
  {
   "cell_type": "code",
   "execution_count": 25,
   "metadata": {},
   "outputs": [
    {
     "data": {
      "text/plain": [
       "index(0.05, 5, 50, 0.05, 0.04)    1.288112e+07\n",
       "(0.05, 5, 50, 0.05, 0.05)         2.898901e+03\n",
       "index(0.05, 5, 50, 0.05, 0.05)    1.234204e+07\n",
       "(0.05, 5, 50, 0.07, 0.01)         3.066009e+03\n",
       "index(0.05, 5, 50, 0.07, 0.01)    1.343375e+07\n",
       "(0.05, 5, 50, 0.07, 0.02)         2.884323e+03\n",
       "index(0.05, 5, 50, 0.07, 0.02)    1.271113e+07\n",
       "(0.05, 5, 50, 0.07, 0.03)         2.946619e+03\n",
       "index(0.05, 5, 50, 0.07, 0.03)    1.275433e+07\n",
       "(0.05, 5, 50, 0.07, 0.04)         2.942277e+03\n",
       "index(0.05, 5, 50, 0.07, 0.04)    1.275864e+07\n",
       "(0.05, 5, 50, 0.07, 0.05)         2.887562e+03\n",
       "index(0.05, 5, 50, 0.07, 0.05)    1.313871e+07\n",
       "(0.05, 5, 50, 0.1, 0.01)          2.994455e+03\n",
       "index(0.05, 5, 50, 0.1, 0.01)     1.310146e+07\n",
       "(0.05, 5, 50, 0.1, 0.02)          2.900436e+03\n",
       "index(0.05, 5, 50, 0.1, 0.02)     1.275937e+07\n",
       "(0.05, 5, 50, 0.1, 0.03)          2.955265e+03\n",
       "index(0.05, 5, 50, 0.1, 0.03)     1.293729e+07\n",
       "(0.05, 5, 50, 0.1, 0.04)          2.840838e+03\n",
       "index(0.05, 5, 50, 0.1, 0.04)     1.241227e+07\n",
       "(0.05, 5, 50, 0.1, 0.05)          2.904094e+03\n",
       "index(0.05, 5, 50, 0.1, 0.05)     1.285673e+07\n",
       "(0.05, 5, 70, 0.05, 0.01)         2.953015e+03\n",
       "index(0.05, 5, 70, 0.05, 0.01)    1.294332e+07\n",
       "(0.05, 5, 70, 0.05, 0.02)         2.797013e+03\n",
       "index(0.05, 5, 70, 0.05, 0.02)    1.244508e+07\n",
       "(0.05, 5, 70, 0.05, 0.03)         2.980856e+03\n",
       "index(0.05, 5, 70, 0.05, 0.03)    1.333608e+07\n",
       "(0.05, 5, 70, 0.05, 0.04)         2.902849e+03\n",
       "index(0.05, 5, 70, 0.05, 0.04)    1.302030e+07\n",
       "(0.05, 5, 70, 0.05, 0.05)         2.912355e+03\n",
       "index(0.05, 5, 70, 0.05, 0.05)    1.282711e+07\n",
       "(0.05, 5, 70, 0.07, 0.01)         2.965700e+03\n",
       "index(0.05, 5, 70, 0.07, 0.01)    1.355796e+07\n",
       "(0.05, 5, 70, 0.07, 0.02)         2.722334e+03\n",
       "index(0.05, 5, 70, 0.07, 0.02)    1.180886e+07\n",
       "(0.05, 5, 70, 0.07, 0.03)         2.874143e+03\n",
       "index(0.05, 5, 70, 0.07, 0.03)    1.249813e+07\n",
       "(0.05, 5, 70, 0.07, 0.04)         3.022176e+03\n",
       "dtype: float64"
      ]
     },
     "execution_count": 25,
     "metadata": {},
     "output_type": "execute_result"
    }
   ],
   "source": [
    "dev_test_100_250.iloc[:,200:240].sum()"
   ]
  },
  {
   "cell_type": "code",
   "execution_count": 26,
   "metadata": {},
   "outputs": [
    {
     "data": {
      "text/plain": [
       "index(0.05, 5, 70, 0.07, 0.04)     1.399941e+07\n",
       "(0.05, 5, 70, 0.07, 0.05)          2.895334e+03\n",
       "index(0.05, 5, 70, 0.07, 0.05)     1.249330e+07\n",
       "(0.05, 5, 70, 0.1, 0.01)           3.009362e+03\n",
       "index(0.05, 5, 70, 0.1, 0.01)      1.363319e+07\n",
       "(0.05, 5, 70, 0.1, 0.02)           3.010696e+03\n",
       "index(0.05, 5, 70, 0.1, 0.02)      1.352360e+07\n",
       "(0.05, 5, 70, 0.1, 0.03)           2.739314e+03\n",
       "index(0.05, 5, 70, 0.1, 0.03)      1.232822e+07\n",
       "(0.05, 5, 70, 0.1, 0.04)           2.812387e+03\n",
       "index(0.05, 5, 70, 0.1, 0.04)      1.230740e+07\n",
       "(0.05, 5, 70, 0.1, 0.05)           2.989441e+03\n",
       "index(0.05, 5, 70, 0.1, 0.05)      1.328431e+07\n",
       "(0.05, 10, 10, 0.05, 0.01)         2.821915e+03\n",
       "index(0.05, 10, 10, 0.05, 0.01)    1.272484e+07\n",
       "(0.05, 10, 10, 0.05, 0.02)         2.848280e+03\n",
       "index(0.05, 10, 10, 0.05, 0.02)    1.253852e+07\n",
       "(0.05, 10, 10, 0.05, 0.03)         2.909662e+03\n",
       "index(0.05, 10, 10, 0.05, 0.03)    1.297791e+07\n",
       "(0.05, 10, 10, 0.05, 0.04)         2.928611e+03\n",
       "index(0.05, 10, 10, 0.05, 0.04)    1.277493e+07\n",
       "(0.05, 10, 10, 0.05, 0.05)         2.894609e+03\n",
       "index(0.05, 10, 10, 0.05, 0.05)    1.264330e+07\n",
       "(0.05, 10, 10, 0.07, 0.01)         2.836554e+03\n",
       "index(0.05, 10, 10, 0.07, 0.01)    1.270669e+07\n",
       "(0.05, 10, 10, 0.07, 0.02)         2.749264e+03\n",
       "index(0.05, 10, 10, 0.07, 0.02)    1.187365e+07\n",
       "(0.05, 10, 10, 0.07, 0.03)         2.939262e+03\n",
       "index(0.05, 10, 10, 0.07, 0.03)    1.304923e+07\n",
       "(0.05, 10, 10, 0.07, 0.04)         2.939934e+03\n",
       "index(0.05, 10, 10, 0.07, 0.04)    1.328285e+07\n",
       "(0.05, 10, 10, 0.07, 0.05)         2.942109e+03\n",
       "index(0.05, 10, 10, 0.07, 0.05)    1.306983e+07\n",
       "(0.05, 10, 10, 0.1, 0.01)          2.899177e+03\n",
       "index(0.05, 10, 10, 0.1, 0.01)     1.307171e+07\n",
       "(0.05, 10, 10, 0.1, 0.02)          2.755809e+03\n",
       "index(0.05, 10, 10, 0.1, 0.02)     1.251610e+07\n",
       "(0.05, 10, 10, 0.1, 0.03)          3.010723e+03\n",
       "index(0.05, 10, 10, 0.1, 0.03)     1.354888e+07\n",
       "(0.05, 10, 10, 0.1, 0.04)          2.786942e+03\n",
       "dtype: float64"
      ]
     },
     "execution_count": 26,
     "metadata": {},
     "output_type": "execute_result"
    }
   ],
   "source": [
    "dev_test_100_250.iloc[:,240:280].sum()"
   ]
  },
  {
   "cell_type": "code",
   "execution_count": 27,
   "metadata": {},
   "outputs": [
    {
     "data": {
      "text/plain": [
       "index(0.05, 10, 10, 0.1, 0.04)     1.212854e+07\n",
       "(0.05, 10, 10, 0.1, 0.05)          2.948937e+03\n",
       "index(0.05, 10, 10, 0.1, 0.05)     1.303472e+07\n",
       "(0.05, 10, 50, 0.05, 0.01)         2.862091e+03\n",
       "index(0.05, 10, 50, 0.05, 0.01)    1.234946e+07\n",
       "(0.05, 10, 50, 0.05, 0.02)         2.887050e+03\n",
       "index(0.05, 10, 50, 0.05, 0.02)    1.290489e+07\n",
       "(0.05, 10, 50, 0.05, 0.03)         3.093146e+03\n",
       "index(0.05, 10, 50, 0.05, 0.03)    1.458264e+07\n",
       "(0.05, 10, 50, 0.05, 0.04)         2.793914e+03\n",
       "index(0.05, 10, 50, 0.05, 0.04)    1.259277e+07\n",
       "(0.05, 10, 50, 0.05, 0.05)         2.913470e+03\n",
       "index(0.05, 10, 50, 0.05, 0.05)    1.293499e+07\n",
       "(0.05, 10, 50, 0.07, 0.01)         2.859051e+03\n",
       "index(0.05, 10, 50, 0.07, 0.01)    1.245322e+07\n",
       "(0.05, 10, 50, 0.07, 0.02)         2.940906e+03\n",
       "index(0.05, 10, 50, 0.07, 0.02)    1.282326e+07\n",
       "(0.05, 10, 50, 0.07, 0.03)         2.911397e+03\n",
       "index(0.05, 10, 50, 0.07, 0.03)    1.277428e+07\n",
       "(0.05, 10, 50, 0.07, 0.04)         2.908428e+03\n",
       "index(0.05, 10, 50, 0.07, 0.04)    1.285906e+07\n",
       "(0.05, 10, 50, 0.07, 0.05)         2.932937e+03\n",
       "index(0.05, 10, 50, 0.07, 0.05)    1.286208e+07\n",
       "dtype: float64"
      ]
     },
     "execution_count": 27,
     "metadata": {},
     "output_type": "execute_result"
    }
   ],
   "source": [
    "dev_test_100_250.iloc[:,280:].sum()"
   ]
  },
  {
   "cell_type": "code",
   "execution_count": 28,
   "metadata": {},
   "outputs": [
    {
     "data": {
      "text/plain": [
       "(3184, 103)"
      ]
     },
     "execution_count": 28,
     "metadata": {},
     "output_type": "execute_result"
    }
   ],
   "source": [
    "dev_test_250_300 = pd.read_csv(\"../raw_data/dev_test_250_300.csv\")\n",
    "dev_test_250_300.shape"
   ]
  },
  {
   "cell_type": "code",
   "execution_count": 29,
   "metadata": {},
   "outputs": [
    {
     "data": {
      "text/plain": [
       "Unnamed: 0                                                              431045642164\n",
       "most_fav_game                      Portal 2Counter-StrikeFar Cry 3Counter-StrikeT...\n",
       "sec_fav_game                       Alien SwarmBanishedLeft 4 Dead 2Worms Reloaded...\n",
       "(0.05, 10, 50, 0.1, 0.01)                                                2789.070649\n",
       "index(0.05, 10, 50, 0.1, 0.01)                                            11635152.0\n",
       "(0.05, 10, 50, 0.1, 0.02)                                                2883.643015\n",
       "index(0.05, 10, 50, 0.1, 0.02)                                            12397580.0\n",
       "(0.05, 10, 50, 0.1, 0.03)                                                2861.280623\n",
       "index(0.05, 10, 50, 0.1, 0.03)                                            12692487.0\n",
       "(0.05, 10, 50, 0.1, 0.04)                                                2906.644911\n",
       "index(0.05, 10, 50, 0.1, 0.04)                                            12887930.0\n",
       "(0.05, 10, 50, 0.1, 0.05)                                                2932.921742\n",
       "index(0.05, 10, 50, 0.1, 0.05)                                            12544419.0\n",
       "(0.05, 10, 70, 0.05, 0.01)                                               2979.761428\n",
       "index(0.05, 10, 70, 0.05, 0.01)                                           12823869.0\n",
       "(0.05, 10, 70, 0.05, 0.02)                                               2913.833214\n",
       "index(0.05, 10, 70, 0.05, 0.02)                                           13034148.0\n",
       "(0.05, 10, 70, 0.05, 0.03)                                               3061.244766\n",
       "index(0.05, 10, 70, 0.05, 0.03)                                           14150177.0\n",
       "(0.05, 10, 70, 0.05, 0.04)                                                2912.17226\n",
       "index(0.05, 10, 70, 0.05, 0.04)                                           13187572.0\n",
       "(0.05, 10, 70, 0.05, 0.05)                                               2877.300384\n",
       "index(0.05, 10, 70, 0.05, 0.05)                                           12926909.0\n",
       "(0.05, 10, 70, 0.07, 0.01)                                                2956.60506\n",
       "index(0.05, 10, 70, 0.07, 0.01)                                           12806891.0\n",
       "dtype: object"
      ]
     },
     "execution_count": 29,
     "metadata": {},
     "output_type": "execute_result"
    }
   ],
   "source": [
    "dev_test_250_300.iloc[:,0:25].sum()"
   ]
  },
  {
   "cell_type": "code",
   "execution_count": 31,
   "metadata": {},
   "outputs": [
    {
     "data": {
      "text/plain": [
       "(0.05, 10, 70, 0.07, 0.02)         2.803145e+03\n",
       "index(0.05, 10, 70, 0.07, 0.02)    1.222198e+07\n",
       "(0.05, 10, 70, 0.07, 0.03)         2.959602e+03\n",
       "index(0.05, 10, 70, 0.07, 0.03)    1.308932e+07\n",
       "(0.05, 10, 70, 0.07, 0.04)         2.790950e+03\n",
       "index(0.05, 10, 70, 0.07, 0.04)    1.260833e+07\n",
       "(0.05, 10, 70, 0.07, 0.05)         2.984592e+03\n",
       "index(0.05, 10, 70, 0.07, 0.05)    1.294430e+07\n",
       "(0.05, 10, 70, 0.1, 0.01)          2.918137e+03\n",
       "index(0.05, 10, 70, 0.1, 0.01)     1.276930e+07\n",
       "(0.05, 10, 70, 0.1, 0.02)          2.759721e+03\n",
       "index(0.05, 10, 70, 0.1, 0.02)     1.211340e+07\n",
       "(0.05, 10, 70, 0.1, 0.03)          2.782243e+03\n",
       "index(0.05, 10, 70, 0.1, 0.03)     1.210308e+07\n",
       "(0.05, 10, 70, 0.1, 0.04)          2.891400e+03\n",
       "index(0.05, 10, 70, 0.1, 0.04)     1.251252e+07\n",
       "(0.05, 10, 70, 0.1, 0.05)          2.928497e+03\n",
       "index(0.05, 10, 70, 0.1, 0.05)     1.293371e+07\n",
       "(0.7, 1, 10, 0.05, 0.01)           2.937753e+03\n",
       "index(0.7, 1, 10, 0.05, 0.01)      1.290519e+07\n",
       "(0.7, 1, 10, 0.05, 0.02)           2.805301e+03\n",
       "index(0.7, 1, 10, 0.05, 0.02)      1.205556e+07\n",
       "(0.7, 1, 10, 0.05, 0.03)           2.881412e+03\n",
       "index(0.7, 1, 10, 0.05, 0.03)      1.262469e+07\n",
       "(0.7, 1, 10, 0.05, 0.04)           2.900849e+03\n",
       "dtype: float64"
      ]
     },
     "execution_count": 31,
     "metadata": {},
     "output_type": "execute_result"
    }
   ],
   "source": [
    "dev_test_250_300.iloc[:,25:50].sum()"
   ]
  },
  {
   "cell_type": "code",
   "execution_count": 32,
   "metadata": {},
   "outputs": [
    {
     "data": {
      "text/plain": [
       "index(0.7, 1, 10, 0.05, 0.04)    1.256849e+07\n",
       "(0.7, 1, 10, 0.05, 0.05)         2.967756e+03\n",
       "index(0.7, 1, 10, 0.05, 0.05)    1.301219e+07\n",
       "(0.7, 1, 10, 0.07, 0.01)         3.094597e+03\n",
       "index(0.7, 1, 10, 0.07, 0.01)    1.404554e+07\n",
       "(0.7, 1, 10, 0.07, 0.02)         2.922861e+03\n",
       "index(0.7, 1, 10, 0.07, 0.02)    1.310121e+07\n",
       "(0.7, 1, 10, 0.07, 0.03)         2.820472e+03\n",
       "index(0.7, 1, 10, 0.07, 0.03)    1.236277e+07\n",
       "(0.7, 1, 10, 0.07, 0.04)         2.873174e+03\n",
       "index(0.7, 1, 10, 0.07, 0.04)    1.283501e+07\n",
       "(0.7, 1, 10, 0.07, 0.05)         2.928369e+03\n",
       "index(0.7, 1, 10, 0.07, 0.05)    1.323277e+07\n",
       "(0.7, 1, 10, 0.1, 0.01)          2.922731e+03\n",
       "index(0.7, 1, 10, 0.1, 0.01)     1.265538e+07\n",
       "(0.7, 1, 10, 0.1, 0.02)          2.847888e+03\n",
       "index(0.7, 1, 10, 0.1, 0.02)     1.280756e+07\n",
       "(0.7, 1, 10, 0.1, 0.03)          2.885184e+03\n",
       "index(0.7, 1, 10, 0.1, 0.03)     1.326434e+07\n",
       "(0.7, 1, 10, 0.1, 0.04)          2.986704e+03\n",
       "index(0.7, 1, 10, 0.1, 0.04)     1.301119e+07\n",
       "(0.7, 1, 10, 0.1, 0.05)          2.942110e+03\n",
       "index(0.7, 1, 10, 0.1, 0.05)     1.284427e+07\n",
       "(0.7, 1, 50, 0.05, 0.01)         2.881963e+03\n",
       "index(0.7, 1, 50, 0.05, 0.01)    1.255344e+07\n",
       "dtype: float64"
      ]
     },
     "execution_count": 32,
     "metadata": {},
     "output_type": "execute_result"
    }
   ],
   "source": [
    "dev_test_250_300.iloc[:,50:75].sum()"
   ]
  },
  {
   "cell_type": "code",
   "execution_count": 34,
   "metadata": {},
   "outputs": [
    {
     "data": {
      "text/plain": [
       "(0.7, 1, 50, 0.05, 0.02)         2.926453e+03\n",
       "index(0.7, 1, 50, 0.05, 0.02)    1.277652e+07\n",
       "(0.7, 1, 50, 0.05, 0.03)         2.854817e+03\n",
       "index(0.7, 1, 50, 0.05, 0.03)    1.246756e+07\n",
       "(0.7, 1, 50, 0.05, 0.04)         2.907017e+03\n",
       "index(0.7, 1, 50, 0.05, 0.04)    1.264532e+07\n",
       "(0.7, 1, 50, 0.05, 0.05)         2.809300e+03\n",
       "index(0.7, 1, 50, 0.05, 0.05)    1.190461e+07\n",
       "(0.7, 1, 50, 0.07, 0.01)         2.925911e+03\n",
       "index(0.7, 1, 50, 0.07, 0.01)    1.279343e+07\n",
       "(0.7, 1, 50, 0.07, 0.02)         2.973160e+03\n",
       "index(0.7, 1, 50, 0.07, 0.02)    1.277133e+07\n",
       "(0.7, 1, 50, 0.07, 0.03)         2.960124e+03\n",
       "index(0.7, 1, 50, 0.07, 0.03)    1.349891e+07\n",
       "(0.7, 1, 50, 0.07, 0.04)         2.788062e+03\n",
       "index(0.7, 1, 50, 0.07, 0.04)    1.219072e+07\n",
       "(0.7, 1, 50, 0.07, 0.05)         2.859972e+03\n",
       "index(0.7, 1, 50, 0.07, 0.05)    1.254508e+07\n",
       "(0.7, 1, 50, 0.1, 0.01)          2.933744e+03\n",
       "index(0.7, 1, 50, 0.1, 0.01)     1.295070e+07\n",
       "(0.7, 1, 50, 0.1, 0.02)          2.809866e+03\n",
       "index(0.7, 1, 50, 0.1, 0.02)     1.237083e+07\n",
       "(0.7, 1, 50, 0.1, 0.03)          2.973587e+03\n",
       "index(0.7, 1, 50, 0.1, 0.03)     1.328187e+07\n",
       "(0.7, 1, 50, 0.1, 0.04)          2.976946e+03\n",
       "index(0.7, 1, 50, 0.1, 0.04)     1.324273e+07\n",
       "(0.7, 1, 50, 0.1, 0.05)          2.936057e+03\n",
       "index(0.7, 1, 50, 0.1, 0.05)     1.266971e+07\n",
       "dtype: float64"
      ]
     },
     "execution_count": 34,
     "metadata": {},
     "output_type": "execute_result"
    }
   ],
   "source": [
    "dev_test_250_300.iloc[:,75:].sum()"
   ]
  },
  {
   "cell_type": "code",
   "execution_count": 35,
   "metadata": {},
   "outputs": [
    {
     "data": {
      "text/plain": [
       "(3184, 103)"
      ]
     },
     "execution_count": 35,
     "metadata": {},
     "output_type": "execute_result"
    }
   ],
   "source": [
    "dev_test_300_350 = pd.read_csv(\"../raw_data/dev_test_300_350.csv\")\n",
    "dev_test_300_350.shape"
   ]
  },
  {
   "cell_type": "code",
   "execution_count": 36,
   "metadata": {},
   "outputs": [
    {
     "data": {
      "text/plain": [
       "Unnamed: 0                                                            431045642164\n",
       "most_fav_game                    Portal 2Counter-StrikeFar Cry 3Counter-StrikeT...\n",
       "sec_fav_game                     Alien SwarmBanishedLeft 4 Dead 2Worms Reloaded...\n",
       "(0.7, 1, 70, 0.05, 0.01)                                               2967.314637\n",
       "index(0.7, 1, 70, 0.05, 0.01)                                           13141142.0\n",
       "(0.7, 1, 70, 0.05, 0.02)                                               2891.660083\n",
       "index(0.7, 1, 70, 0.05, 0.02)                                           12782625.0\n",
       "(0.7, 1, 70, 0.05, 0.03)                                               2884.687767\n",
       "index(0.7, 1, 70, 0.05, 0.03)                                           12499083.0\n",
       "(0.7, 1, 70, 0.05, 0.04)                                               2918.305704\n",
       "index(0.7, 1, 70, 0.05, 0.04)                                           13202743.0\n",
       "(0.7, 1, 70, 0.05, 0.05)                                               2867.914016\n",
       "index(0.7, 1, 70, 0.05, 0.05)                                           12409332.0\n",
       "(0.7, 1, 70, 0.07, 0.01)                                                2804.55884\n",
       "index(0.7, 1, 70, 0.07, 0.01)                                           12282024.0\n",
       "(0.7, 1, 70, 0.07, 0.02)                                               2883.629537\n",
       "index(0.7, 1, 70, 0.07, 0.02)                                           12911815.0\n",
       "(0.7, 1, 70, 0.07, 0.03)                                               2876.209473\n",
       "index(0.7, 1, 70, 0.07, 0.03)                                           12412413.0\n",
       "(0.7, 1, 70, 0.07, 0.04)                                               2977.967997\n",
       "index(0.7, 1, 70, 0.07, 0.04)                                           13016741.0\n",
       "(0.7, 1, 70, 0.07, 0.05)                                               3013.585214\n",
       "index(0.7, 1, 70, 0.07, 0.05)                                           13504650.0\n",
       "(0.7, 1, 70, 0.1, 0.01)                                                2909.999994\n",
       "index(0.7, 1, 70, 0.1, 0.01)                                            12940273.0\n",
       "dtype: object"
      ]
     },
     "execution_count": 36,
     "metadata": {},
     "output_type": "execute_result"
    }
   ],
   "source": [
    "dev_test_300_350.iloc[:,0:25].sum()"
   ]
  },
  {
   "cell_type": "code",
   "execution_count": 37,
   "metadata": {},
   "outputs": [
    {
     "data": {
      "text/plain": [
       "(0.7, 1, 70, 0.1, 0.02)          2.960442e+03\n",
       "index(0.7, 1, 70, 0.1, 0.02)     1.285782e+07\n",
       "(0.7, 1, 70, 0.1, 0.03)          2.866700e+03\n",
       "index(0.7, 1, 70, 0.1, 0.03)     1.249469e+07\n",
       "(0.7, 1, 70, 0.1, 0.04)          2.983002e+03\n",
       "index(0.7, 1, 70, 0.1, 0.04)     1.381057e+07\n",
       "(0.7, 1, 70, 0.1, 0.05)          2.808678e+03\n",
       "index(0.7, 1, 70, 0.1, 0.05)     1.218006e+07\n",
       "(0.7, 5, 10, 0.05, 0.01)         3.005428e+03\n",
       "index(0.7, 5, 10, 0.05, 0.01)    1.355048e+07\n",
       "(0.7, 5, 10, 0.05, 0.02)         2.947810e+03\n",
       "index(0.7, 5, 10, 0.05, 0.02)    1.297775e+07\n",
       "(0.7, 5, 10, 0.05, 0.03)         2.751329e+03\n",
       "index(0.7, 5, 10, 0.05, 0.03)    1.238772e+07\n",
       "(0.7, 5, 10, 0.05, 0.04)         3.008950e+03\n",
       "index(0.7, 5, 10, 0.05, 0.04)    1.295856e+07\n",
       "(0.7, 5, 10, 0.05, 0.05)         2.893544e+03\n",
       "index(0.7, 5, 10, 0.05, 0.05)    1.280094e+07\n",
       "(0.7, 5, 10, 0.07, 0.01)         3.026301e+03\n",
       "index(0.7, 5, 10, 0.07, 0.01)    1.365182e+07\n",
       "(0.7, 5, 10, 0.07, 0.02)         2.961872e+03\n",
       "index(0.7, 5, 10, 0.07, 0.02)    1.346646e+07\n",
       "(0.7, 5, 10, 0.07, 0.03)         2.904646e+03\n",
       "index(0.7, 5, 10, 0.07, 0.03)    1.262098e+07\n",
       "(0.7, 5, 10, 0.07, 0.04)         3.001524e+03\n",
       "dtype: float64"
      ]
     },
     "execution_count": 37,
     "metadata": {},
     "output_type": "execute_result"
    }
   ],
   "source": [
    "dev_test_300_350.iloc[:,25:50].sum()"
   ]
  },
  {
   "cell_type": "code",
   "execution_count": 38,
   "metadata": {},
   "outputs": [
    {
     "data": {
      "text/plain": [
       "index(0.7, 5, 10, 0.07, 0.04)    1.307813e+07\n",
       "(0.7, 5, 10, 0.07, 0.05)         2.895240e+03\n",
       "index(0.7, 5, 10, 0.07, 0.05)    1.283144e+07\n",
       "(0.7, 5, 10, 0.1, 0.01)          2.850660e+03\n",
       "index(0.7, 5, 10, 0.1, 0.01)     1.281561e+07\n",
       "(0.7, 5, 10, 0.1, 0.02)          2.990767e+03\n",
       "index(0.7, 5, 10, 0.1, 0.02)     1.298200e+07\n",
       "(0.7, 5, 10, 0.1, 0.03)          2.953851e+03\n",
       "index(0.7, 5, 10, 0.1, 0.03)     1.295447e+07\n",
       "(0.7, 5, 10, 0.1, 0.04)          2.972263e+03\n",
       "index(0.7, 5, 10, 0.1, 0.04)     1.300350e+07\n",
       "(0.7, 5, 10, 0.1, 0.05)          2.858273e+03\n",
       "index(0.7, 5, 10, 0.1, 0.05)     1.277931e+07\n",
       "(0.7, 5, 50, 0.05, 0.01)         2.988739e+03\n",
       "index(0.7, 5, 50, 0.05, 0.01)    1.303965e+07\n",
       "(0.7, 5, 50, 0.05, 0.02)         2.934532e+03\n",
       "index(0.7, 5, 50, 0.05, 0.02)    1.334347e+07\n",
       "(0.7, 5, 50, 0.05, 0.03)         2.924505e+03\n",
       "index(0.7, 5, 50, 0.05, 0.03)    1.284088e+07\n",
       "(0.7, 5, 50, 0.05, 0.04)         2.996036e+03\n",
       "index(0.7, 5, 50, 0.05, 0.04)    1.363736e+07\n",
       "(0.7, 5, 50, 0.05, 0.05)         3.014710e+03\n",
       "index(0.7, 5, 50, 0.05, 0.05)    1.297806e+07\n",
       "(0.7, 5, 50, 0.07, 0.01)         2.872457e+03\n",
       "index(0.7, 5, 50, 0.07, 0.01)    1.257571e+07\n",
       "dtype: float64"
      ]
     },
     "execution_count": 38,
     "metadata": {},
     "output_type": "execute_result"
    }
   ],
   "source": [
    "dev_test_300_350.iloc[:,50:75].sum()"
   ]
  },
  {
   "cell_type": "code",
   "execution_count": 39,
   "metadata": {},
   "outputs": [
    {
     "data": {
      "text/plain": [
       "(0.7, 5, 50, 0.07, 0.02)         2.933205e+03\n",
       "index(0.7, 5, 50, 0.07, 0.02)    1.300817e+07\n",
       "(0.7, 5, 50, 0.07, 0.03)         2.978650e+03\n",
       "index(0.7, 5, 50, 0.07, 0.03)    1.263878e+07\n",
       "(0.7, 5, 50, 0.07, 0.04)         2.957347e+03\n",
       "index(0.7, 5, 50, 0.07, 0.04)    1.303575e+07\n",
       "(0.7, 5, 50, 0.07, 0.05)         2.945554e+03\n",
       "index(0.7, 5, 50, 0.07, 0.05)    1.296146e+07\n",
       "(0.7, 5, 50, 0.1, 0.01)          2.905951e+03\n",
       "index(0.7, 5, 50, 0.1, 0.01)     1.289592e+07\n",
       "(0.7, 5, 50, 0.1, 0.02)          2.947253e+03\n",
       "index(0.7, 5, 50, 0.1, 0.02)     1.284855e+07\n",
       "(0.7, 5, 50, 0.1, 0.03)          2.753825e+03\n",
       "index(0.7, 5, 50, 0.1, 0.03)     1.210409e+07\n",
       "(0.7, 5, 50, 0.1, 0.04)          2.885586e+03\n",
       "index(0.7, 5, 50, 0.1, 0.04)     1.240485e+07\n",
       "(0.7, 5, 50, 0.1, 0.05)          2.983133e+03\n",
       "index(0.7, 5, 50, 0.1, 0.05)     1.367617e+07\n",
       "(0.7, 5, 70, 0.05, 0.01)         2.879528e+03\n",
       "index(0.7, 5, 70, 0.05, 0.01)    1.283725e+07\n",
       "(0.7, 5, 70, 0.05, 0.02)         2.935961e+03\n",
       "index(0.7, 5, 70, 0.05, 0.02)    1.304002e+07\n",
       "(0.7, 5, 70, 0.05, 0.03)         2.933787e+03\n",
       "index(0.7, 5, 70, 0.05, 0.03)    1.296436e+07\n",
       "(0.7, 5, 70, 0.05, 0.04)         2.900807e+03\n",
       "index(0.7, 5, 70, 0.05, 0.04)    1.266717e+07\n",
       "(0.7, 5, 70, 0.05, 0.05)         2.933998e+03\n",
       "index(0.7, 5, 70, 0.05, 0.05)    1.291932e+07\n",
       "dtype: float64"
      ]
     },
     "execution_count": 39,
     "metadata": {},
     "output_type": "execute_result"
    }
   ],
   "source": [
    "dev_test_300_350.iloc[:,75:].sum()"
   ]
  },
  {
   "cell_type": "code",
   "execution_count": null,
   "metadata": {},
   "outputs": [],
   "source": []
  }
 ],
 "metadata": {
  "interpreter": {
   "hash": "3892b204c7bc03e21b5907f817a7fbcf4067fee483948f2d26229147147bdc8c"
  },
  "kernelspec": {
   "display_name": "Python 3 (ipykernel)",
   "language": "python",
   "name": "python3"
  },
  "language_info": {
   "codemirror_mode": {
    "name": "ipython",
    "version": 3
   },
   "file_extension": ".py",
   "mimetype": "text/x-python",
   "name": "python",
   "nbconvert_exporter": "python",
   "pygments_lexer": "ipython3",
   "version": "3.8.12"
  },
  "toc": {
   "base_numbering": 1,
   "nav_menu": {},
   "number_sections": true,
   "sideBar": true,
   "skip_h1_title": false,
   "title_cell": "Table of Contents",
   "title_sidebar": "Contents",
   "toc_cell": false,
   "toc_position": {},
   "toc_section_display": true,
   "toc_window_display": false
  }
 },
 "nbformat": 4,
 "nbformat_minor": 2
}
